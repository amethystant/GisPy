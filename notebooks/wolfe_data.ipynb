{
 "cells": [
  {
   "cell_type": "code",
   "execution_count": null,
   "metadata": {},
   "outputs": [],
   "source": [
    "# requirement\n",
    "# ! pip install textract"
   ]
  },
  {
   "cell_type": "code",
   "execution_count": 1,
   "metadata": {},
   "outputs": [],
   "source": [
    "import re\n",
    "import textract\n",
    "import pandas as pd\n",
    "\n",
    "# reading the text from file\n",
    "file_path = '../data/wolfe/Report_vs_Opinion/Report_Opinion_Comparison.docx'\n",
    "text = textract.process(file_path)\n",
    "text = text.decode('utf-8')\n",
    "# replacing more than three new line characters with only two\n",
    "text = re.sub(r'[\\n]{3,}', '\\n\\n', text)"
   ]
  },
  {
   "cell_type": "code",
   "execution_count": 2,
   "metadata": {},
   "outputs": [],
   "source": [
    "df = pd.DataFrame(columns=['title', 'type', 'url', 'text'])\n",
    "lines = text.split('\\n')\n",
    "\n",
    "i = 4\n",
    "doc_text = []\n",
    "doc_title = lines[0] \n",
    "doc_url = lines[2]\n",
    "\n",
    "while i < len(lines):\n",
    "    if lines[i].startswith('Opinion-') or lines[i].startswith('Report-'):\n",
    "        df = df.append({'title': doc_title, 'type': doc_title.split('-')[0].lower(), 'url': doc_url, 'text': '\\n'.join(doc_text)}, ignore_index=True)\n",
    "        doc_title = lines[i]\n",
    "        doc_url = lines[i+2]\n",
    "        doc_text = []\n",
    "        i += 4\n",
    "    else:\n",
    "        doc_text.append(lines[i])\n",
    "        i += 1"
   ]
  },
  {
   "cell_type": "code",
   "execution_count": 3,
   "metadata": {},
   "outputs": [
    {
     "data": {
      "text/html": [
       "<div>\n",
       "<style scoped>\n",
       "    .dataframe tbody tr th:only-of-type {\n",
       "        vertical-align: middle;\n",
       "    }\n",
       "\n",
       "    .dataframe tbody tr th {\n",
       "        vertical-align: top;\n",
       "    }\n",
       "\n",
       "    .dataframe thead th {\n",
       "        text-align: right;\n",
       "    }\n",
       "</style>\n",
       "<table border=\"1\" class=\"dataframe\">\n",
       "  <thead>\n",
       "    <tr style=\"text-align: right;\">\n",
       "      <th></th>\n",
       "      <th>title</th>\n",
       "      <th>type</th>\n",
       "      <th>url</th>\n",
       "      <th>text</th>\n",
       "    </tr>\n",
       "  </thead>\n",
       "  <tbody>\n",
       "    <tr>\n",
       "      <th>0</th>\n",
       "      <td>Report-Hawking</td>\n",
       "      <td>report</td>\n",
       "      <td>https://www.usatoday.com/story/news/2018/03/14...</td>\n",
       "      <td>Stephen Hawking, one of the world's foremost t...</td>\n",
       "    </tr>\n",
       "    <tr>\n",
       "      <th>1</th>\n",
       "      <td>Opinion-Hawking</td>\n",
       "      <td>opinion</td>\n",
       "      <td>https://www.usatoday.com/story/news/2018/03/14...</td>\n",
       "      <td>Stephen Hawking, one of the greatest scientist...</td>\n",
       "    </tr>\n",
       "    <tr>\n",
       "      <th>2</th>\n",
       "      <td>Report-Gun control</td>\n",
       "      <td>report</td>\n",
       "      <td>https://www.usatoday.com/story/news/politics/2...</td>\n",
       "      <td>WASHINGTON — As students across the country pr...</td>\n",
       "    </tr>\n",
       "  </tbody>\n",
       "</table>\n",
       "</div>"
      ],
      "text/plain": [
       "                title     type  \\\n",
       "0      Report-Hawking   report   \n",
       "1    Opinion-Hawking   opinion   \n",
       "2  Report-Gun control   report   \n",
       "\n",
       "                                                 url  \\\n",
       "0  https://www.usatoday.com/story/news/2018/03/14...   \n",
       "1  https://www.usatoday.com/story/news/2018/03/14...   \n",
       "2  https://www.usatoday.com/story/news/politics/2...   \n",
       "\n",
       "                                                text  \n",
       "0  Stephen Hawking, one of the world's foremost t...  \n",
       "1  Stephen Hawking, one of the greatest scientist...  \n",
       "2  WASHINGTON — As students across the country pr...  "
      ]
     },
     "execution_count": 3,
     "metadata": {},
     "output_type": "execute_result"
    }
   ],
   "source": [
    "df.head(3)"
   ]
  },
  {
   "cell_type": "code",
   "execution_count": 4,
   "metadata": {},
   "outputs": [],
   "source": [
    "df.to_excel('report_vs_opinion.xlsx')"
   ]
  },
  {
   "cell_type": "code",
   "execution_count": null,
   "metadata": {},
   "outputs": [],
   "source": []
  }
 ],
 "metadata": {
  "kernelspec": {
   "display_name": "gispy-env",
   "language": "python",
   "name": "gispy-env"
  },
  "language_info": {
   "codemirror_mode": {
    "name": "ipython",
    "version": 3
   },
   "file_extension": ".py",
   "mimetype": "text/x-python",
   "name": "python",
   "nbconvert_exporter": "python",
   "pygments_lexer": "ipython3",
   "version": "3.8.5"
  }
 },
 "nbformat": 4,
 "nbformat_minor": 4
}
