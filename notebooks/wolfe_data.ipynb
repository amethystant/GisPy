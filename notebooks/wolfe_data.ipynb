{
 "cells": [
  {
   "cell_type": "code",
   "execution_count": 1,
   "metadata": {},
   "outputs": [],
   "source": [
    "import os\n",
    "import sys\n",
    "\n",
    "# adding classes folder to system path\n",
    "sys.path.insert(0, os.path.abspath('..') + '/gispy')\n",
    "\n",
    "import re\n",
    "import textract\n",
    "import statistics\n",
    "import numpy as np\n",
    "import pandas as pd\n",
    "import matplotlib.pyplot as plt\n",
    "\n",
    "from gist import GIS\n",
    "\n",
    "def read_word_text(file_path):\n",
    "    # reading the text from file\n",
    "    text = textract.process(file_path)\n",
    "    text = text.decode('utf-8')\n",
    "\n",
    "    # replacing more than three new line characters with only two\n",
    "    text = re.sub(r'[\\n]{3,}', '\\n\\n', text)\n",
    "    \n",
    "    return text"
   ]
  },
  {
   "cell_type": "markdown",
   "metadata": {},
   "source": [
    "## Report vs. Opinion"
   ]
  },
  {
   "cell_type": "code",
   "execution_count": 2,
   "metadata": {},
   "outputs": [],
   "source": [
    "file_path = '../data/wolfe/Report_vs_Opinion/Report_Opinion_Comparison.docx'\n",
    "text = read_word_text(file_path)"
   ]
  },
  {
   "cell_type": "code",
   "execution_count": 3,
   "metadata": {},
   "outputs": [],
   "source": [
    "df = pd.DataFrame(columns=['title', 'type', 'url', 'text'])\n",
    "lines = text.split('\\n')\n",
    "\n",
    "i = 4\n",
    "doc_text = []\n",
    "doc_title = lines[0] \n",
    "doc_url = lines[2]\n",
    "\n",
    "while i < len(lines):\n",
    "    if lines[i].startswith('Opinion-') or lines[i].startswith('Report-'):\n",
    "        df = df.append({'title': doc_title, 'type': doc_title.split('-')[0].lower(), 'url': doc_url, 'text': '\\n'.join(doc_text)}, ignore_index=True)\n",
    "        doc_title = lines[i]\n",
    "        doc_url = lines[i+2]\n",
    "        doc_text = []\n",
    "        i += 4\n",
    "    else:\n",
    "        doc_text.append(lines[i])\n",
    "        i += 1"
   ]
  },
  {
   "cell_type": "code",
   "execution_count": 4,
   "metadata": {},
   "outputs": [
    {
     "data": {
      "text/html": [
       "<div>\n",
       "<style scoped>\n",
       "    .dataframe tbody tr th:only-of-type {\n",
       "        vertical-align: middle;\n",
       "    }\n",
       "\n",
       "    .dataframe tbody tr th {\n",
       "        vertical-align: top;\n",
       "    }\n",
       "\n",
       "    .dataframe thead th {\n",
       "        text-align: right;\n",
       "    }\n",
       "</style>\n",
       "<table border=\"1\" class=\"dataframe\">\n",
       "  <thead>\n",
       "    <tr style=\"text-align: right;\">\n",
       "      <th></th>\n",
       "      <th>title</th>\n",
       "      <th>type</th>\n",
       "      <th>url</th>\n",
       "      <th>text</th>\n",
       "    </tr>\n",
       "  </thead>\n",
       "  <tbody>\n",
       "    <tr>\n",
       "      <th>0</th>\n",
       "      <td>Report-Hawking</td>\n",
       "      <td>report</td>\n",
       "      <td>https://www.usatoday.com/story/news/2018/03/14...</td>\n",
       "      <td>Stephen Hawking, one of the world's foremost t...</td>\n",
       "    </tr>\n",
       "    <tr>\n",
       "      <th>1</th>\n",
       "      <td>Opinion-Hawking</td>\n",
       "      <td>opinion</td>\n",
       "      <td>https://www.usatoday.com/story/news/2018/03/14...</td>\n",
       "      <td>Stephen Hawking, one of the greatest scientist...</td>\n",
       "    </tr>\n",
       "    <tr>\n",
       "      <th>2</th>\n",
       "      <td>Report-Gun control</td>\n",
       "      <td>report</td>\n",
       "      <td>https://www.usatoday.com/story/news/politics/2...</td>\n",
       "      <td>WASHINGTON — As students across the country pr...</td>\n",
       "    </tr>\n",
       "  </tbody>\n",
       "</table>\n",
       "</div>"
      ],
      "text/plain": [
       "                title     type  \\\n",
       "0      Report-Hawking   report   \n",
       "1    Opinion-Hawking   opinion   \n",
       "2  Report-Gun control   report   \n",
       "\n",
       "                                                 url  \\\n",
       "0  https://www.usatoday.com/story/news/2018/03/14...   \n",
       "1  https://www.usatoday.com/story/news/2018/03/14...   \n",
       "2  https://www.usatoday.com/story/news/politics/2...   \n",
       "\n",
       "                                                text  \n",
       "0  Stephen Hawking, one of the world's foremost t...  \n",
       "1  Stephen Hawking, one of the greatest scientist...  \n",
       "2  WASHINGTON — As students across the country pr...  "
      ]
     },
     "execution_count": 4,
     "metadata": {},
     "output_type": "execute_result"
    }
   ],
   "source": [
    "df.head(3)"
   ]
  },
  {
   "cell_type": "code",
   "execution_count": 5,
   "metadata": {},
   "outputs": [],
   "source": [
    "df.to_excel('report_vs_opinion.xlsx')"
   ]
  },
  {
   "cell_type": "markdown",
   "metadata": {},
   "source": [
    "### Creating text files"
   ]
  },
  {
   "cell_type": "code",
   "execution_count": 5,
   "metadata": {},
   "outputs": [],
   "source": [
    "doc_folder = '../data/documents'\n",
    "for idx, row in df.iterrows():\n",
    "    with open('{}/{}_{}.txt'.format(doc_folder, row['type'], idx), 'w') as text_file:\n",
    "        text_file.write(row['text'])"
   ]
  },
  {
   "cell_type": "markdown",
   "metadata": {},
   "source": [
    "### Compute `GIS` using `GisPy`"
   ]
  },
  {
   "cell_type": "code",
   "execution_count": 2,
   "metadata": {},
   "outputs": [
    {
     "name": "stdout",
     "output_type": "stream",
     "text": [
      "[gist=yes] mean: -0.19\n",
      "[gist=no] mean: -0.59\n"
     ]
    }
   ],
   "source": [
    "df = pd.read_csv('../gispy/ro.csv')\n",
    "\n",
    "df_yes = df[df['d_id'].apply(lambda x: x.startswith('opinion_'))]\n",
    "df_no = df[df['d_id'].apply(lambda x: x.startswith('report_'))]\n",
    "\n",
    "print('[gist=yes] mean: {}'.format(round(statistics.mean(df_yes['gis']), 2)))\n",
    "print('[gist=no] mean: {}'.format(round(statistics.mean(df_no['gis']), 2)))"
   ]
  },
  {
   "cell_type": "code",
   "execution_count": 3,
   "metadata": {},
   "outputs": [
    {
     "data": {
      "image/png": "[encoded data removed]",
      "text/plain": [
       "<Figure size 504x504 with 9 Axes>"
      ]
     },
     "metadata": {
      "needs_background": "light"
     },
     "output_type": "display_data"
    }
   ],
   "source": [
    "# formula = PCREFz + PCDCz + (zSMCAUSlsa - zSMCAUSwn) - PCCNCz - zWRDIMGc - zWRDHYPnv\n",
    "cols = [[\"PCREFz\", 0, 0], [\"PCDCz\", 0, 1], [\"zSMCAUSlsa\", 0, 2], [\"zSMCAUSwn\", 1, 0], \n",
    "        [\"PCCNCz\", 1, 1], [\"zWRDIMGc\", 1, 2], [\"zWRDHYPnv\", 2, 0]]\n",
    "\n",
    "cols_gispy = [[\"PCREF\", 0, 0], [\"PCDC\", 0, 1], [\"SMCAUSlme\", 0, 2], [\"SMCAUSwn\", 1, 0], \n",
    "        [\"WRDCNCc\", 1, 1], [\"WRDIMGc\", 1, 2], [\"WRDHYPnv\", 2, 0]]\n",
    "\n",
    "fig, axis = plt.subplots(3, 3, figsize=(7,7), constrained_layout=True)\n",
    "\n",
    "for col in cols_gispy:\n",
    "    axis[col[1], col[2]].boxplot([df_yes[col[0]], df_no[col[0]]], labels=['Gist', 'No Gist'])\n",
    "    axis[col[1], col[2]].set_title(col[0])\n",
    "\n",
    "axis[2, 1].set_axis_off()\n",
    "axis[2, 2].set_axis_off()\n",
    "\n",
    "fig.savefig('aaa.pdf')"
   ]
  },
  {
   "cell_type": "markdown",
   "metadata": {},
   "source": [
    "## Methods vs. Discussion"
   ]
  },
  {
   "cell_type": "code",
   "execution_count": 2,
   "metadata": {},
   "outputs": [
    {
     "name": "stdout",
     "output_type": "stream",
     "text": [
      "25 545\n"
     ]
    }
   ],
   "source": [
    "file_path = '../data/wolfe/Methods_vs_Discussion/Wolfe_methods_and_discussion_comparison.docx'\n",
    "text = read_word_text(file_path)\n",
    "\n",
    "# ARTICLE\n",
    "# METHODS\n",
    "# DISCUSSION\n",
    "\n",
    "df = pd.DataFrame(columns=['title', 'methods', 'discussion'])\n",
    "lines = text.split('\\n')\n",
    "\n",
    "article_title = \"\"\n",
    "methods = []\n",
    "discussion = []\n",
    "\n",
    "i = 0\n",
    "\n",
    "while i < len(lines):\n",
    "    if lines[i].strip().lower().startswith('article'):\n",
    "        article_title = ' '.join(lines[i].split(':')[1:]).strip()\n",
    "        i += 4\n",
    "        while i < len(lines) and not lines[i].lower().startswith('discussion'):\n",
    "            methods.append(lines[i])\n",
    "            i += 1\n",
    "        i += 2\n",
    "        while i < len(lines) and not lines[i].strip().lower().startswith('article'):\n",
    "            discussion.append(lines[i])\n",
    "            i += 1\n",
    "\n",
    "        if article_title != \"\" and len(methods) > 0 and len(discussion) > 0:\n",
    "            df = df.append({'title': article_title, 'methods': '\\n'.join(methods), 'discussion': '\\n'.join(discussion)}, ignore_index=True)\n",
    "            article_title = \"\"\n",
    "            methods = []\n",
    "            discussion = []\n",
    "\n",
    "print(len(df), i)"
   ]
  },
  {
   "cell_type": "code",
   "execution_count": 3,
   "metadata": {},
   "outputs": [
    {
     "data": {
      "text/html": [
       "<div>\n",
       "<style scoped>\n",
       "    .dataframe tbody tr th:only-of-type {\n",
       "        vertical-align: middle;\n",
       "    }\n",
       "\n",
       "    .dataframe tbody tr th {\n",
       "        vertical-align: top;\n",
       "    }\n",
       "\n",
       "    .dataframe thead th {\n",
       "        text-align: right;\n",
       "    }\n",
       "</style>\n",
       "<table border=\"1\" class=\"dataframe\">\n",
       "  <thead>\n",
       "    <tr style=\"text-align: right;\">\n",
       "      <th></th>\n",
       "      <th>title</th>\n",
       "      <th>methods</th>\n",
       "      <th>discussion</th>\n",
       "    </tr>\n",
       "  </thead>\n",
       "  <tbody>\n",
       "    <tr>\n",
       "      <th>0</th>\n",
       "      <td>Common Modality Effects in Immediate Free Reca...</td>\n",
       "      <td>Forty participants from the University of Esse...</td>\n",
       "      <td>A third feature of our data that may constrain...</td>\n",
       "    </tr>\n",
       "    <tr>\n",
       "      <th>1</th>\n",
       "      <td>Retuning of Lexical-Semantic Representations  ...</td>\n",
       "      <td>Thirty-three native British English speakers p...</td>\n",
       "      <td>Finally, in contrast to these two views, which...</td>\n",
       "    </tr>\n",
       "    <tr>\n",
       "      <th>2</th>\n",
       "      <td>Threat of Shock and Aversive Inhibition  Induc...</td>\n",
       "      <td>Sixty-two healthy participants (39 females; ag...</td>\n",
       "      <td>As a potential caveat, it should be noted that...</td>\n",
       "    </tr>\n",
       "  </tbody>\n",
       "</table>\n",
       "</div>"
      ],
      "text/plain": [
       "                                               title  \\\n",
       "0  Common Modality Effects in Immediate Free Reca...   \n",
       "1  Retuning of Lexical-Semantic Representations  ...   \n",
       "2  Threat of Shock and Aversive Inhibition  Induc...   \n",
       "\n",
       "                                             methods  \\\n",
       "0  Forty participants from the University of Esse...   \n",
       "1  Thirty-three native British English speakers p...   \n",
       "2  Sixty-two healthy participants (39 females; ag...   \n",
       "\n",
       "                                          discussion  \n",
       "0  A third feature of our data that may constrain...  \n",
       "1  Finally, in contrast to these two views, which...  \n",
       "2  As a potential caveat, it should be noted that...  "
      ]
     },
     "execution_count": 3,
     "metadata": {},
     "output_type": "execute_result"
    }
   ],
   "source": [
    "df.head(3)"
   ]
  },
  {
   "cell_type": "code",
   "execution_count": 4,
   "metadata": {},
   "outputs": [],
   "source": [
    "df.reset_index()\n",
    "df.to_excel('../data/methods_vs_discussion.xlsx')"
   ]
  },
  {
   "cell_type": "markdown",
   "metadata": {},
   "source": [
    "### Create text files"
   ]
  },
  {
   "cell_type": "code",
   "execution_count": 5,
   "metadata": {},
   "outputs": [],
   "source": [
    "doc_folder = '../data/documents'\n",
    "for idx, row in df.iterrows():\n",
    "    with open('{}/m_{}.txt'.format(doc_folder, idx), 'w') as text_file:\n",
    "        text_file.write(row['methods'])\n",
    "    with open('{}/d_{}.txt'.format(doc_folder, idx), 'w') as text_file:\n",
    "        text_file.write(row['discussion'])"
   ]
  },
  {
   "cell_type": "markdown",
   "metadata": {},
   "source": [
    "### Compute GIS - using `CohMetrix`"
   ]
  },
  {
   "cell_type": "code",
   "execution_count": 4,
   "metadata": {},
   "outputs": [
    {
     "name": "stdout",
     "output_type": "stream",
     "text": [
      "[gist=yes] mean: 2.93\n",
      "[gist=no] mean: -2.02\n"
     ]
    }
   ],
   "source": [
    "df = pd.read_csv('../data/wolfe_cohmetrix.csv')\n",
    "df_scores = GIS().score(df, wolfe=True)\n",
    "\n",
    "id_col = 'TextID'\n",
    "\n",
    "df_yes = df[df[id_col].apply(lambda x: x.split(\"_\")[-2].endswith('d'))]\n",
    "df_no = df[df[id_col].apply(lambda x: x.split(\"_\")[-2].endswith('m'))]\n",
    "\n",
    "scores = {'yes': [], 'no': []}\n",
    "\n",
    "for idx, row in df_scores.iterrows():\n",
    "    if row[id_col].split(\"_\")[-2].endswith('d'):\n",
    "        scores['yes'].append(float(row['gis']))\n",
    "    else:\n",
    "        scores['no'].append(float(row['gis']))\n",
    "\n",
    "scores_yes = np.array(scores['yes'])\n",
    "scores_no = np.array(scores['no'])\n",
    "\n",
    "print('[gist=yes] mean: {}'.format(round(statistics.mean(scores_yes), 2)))\n",
    "print('[gist=no] mean: {}'.format(round(statistics.mean(scores_no), 2)))"
   ]
  },
  {
   "cell_type": "markdown",
   "metadata": {},
   "source": [
    "### Compute GIS - using `GisPy`"
   ]
  },
  {
   "cell_type": "code",
   "execution_count": 9,
   "metadata": {},
   "outputs": [],
   "source": [
    "# df = pd.read_csv('../gispy/md_new.csv')\n",
    "# df = GIS().score(df, wolfe=True, gispy=True)\n",
    "# df.to_csv('../gispy/md_new.csv')"
   ]
  },
  {
   "cell_type": "code",
   "execution_count": 4,
   "metadata": {},
   "outputs": [
    {
     "name": "stdout",
     "output_type": "stream",
     "text": [
      "[gist=yes] mean: 2.39\n",
      "[gist=no] mean: -2.39\n"
     ]
    }
   ],
   "source": [
    "import copy \n",
    "df = pd.read_csv('../gispy/md_gispy_v1.csv')\n",
    "\n",
    "df_new = GIS().score(df, wolfe=False, gispy=True)\n",
    "\n",
    "df_yes = copy.deepcopy(df_new[df_new['d_id'].apply(lambda x: x.startswith('d_'))])\n",
    "df_no = copy.deepcopy(df_new[df_new['d_id'].apply(lambda x: x.startswith('m_'))])\n",
    "\n",
    "#df_yes = GIS().score(df_yes, wolfe=False, gispy=True)\n",
    "#df_no = GIS().score(df_no, wolfe=False, gispy=True)\n",
    "\n",
    "print('[gist=yes] mean: {}'.format(round(statistics.mean(df_yes['gis']), 2)))\n",
    "print('[gist=no] mean: {}'.format(round(statistics.mean(df_no['gis']), 2)))"
   ]
  },
  {
   "cell_type": "code",
   "execution_count": 3,
   "metadata": {},
   "outputs": [
    {
     "name": "stdout",
     "output_type": "stream",
     "text": [
      "2.3887716801056933 -2.3887716801056946\n"
     ]
    }
   ],
   "source": [
    "PCREFz = list(df_yes[\"PCREFz\"])\n",
    "PCDCz = list(df_yes[\"PCDCz\"])\n",
    "PCCNCz = list(df_yes[\"PCCNCz\"])\n",
    "zSMCAUSlsa = list(df_yes[\"zSMCAUSlsa\"])\n",
    "zSMCAUSwn = list(df_yes[\"zSMCAUSwn\"])\n",
    "zWRDIMGc = list(df_yes[\"zWRDIMGc\"])\n",
    "zWRDHYPnv = list(df_yes[\"zWRDHYPnv\"])\n",
    "gis_yes = statistics.mean(PCREFz) + statistics.mean(PCDCz) + (statistics.mean(zSMCAUSlsa) - statistics.mean(zSMCAUSwn)) - statistics.mean(PCCNCz) - statistics.mean(zWRDIMGc) - statistics.mean(zWRDHYPnv)\n",
    "\n",
    "PCREFz = list(df_no[\"PCREFz\"])\n",
    "PCDCz = list(df_no[\"PCDCz\"])\n",
    "PCCNCz = list(df_no[\"PCCNCz\"])\n",
    "zSMCAUSlsa = list(df_no[\"zSMCAUSlsa\"])\n",
    "zSMCAUSwn = list(df_no[\"zSMCAUSwn\"])\n",
    "zWRDIMGc = list(df_no[\"zWRDIMGc\"])\n",
    "zWRDHYPnv = list(df_no[\"zWRDHYPnv\"])\n",
    "gis_no = statistics.mean(PCREFz) + statistics.mean(PCDCz) + (statistics.mean(zSMCAUSlsa) - statistics.mean(zSMCAUSwn)) - statistics.mean(PCCNCz) - statistics.mean(zWRDIMGc) - statistics.mean(zWRDHYPnv)\n",
    "\n",
    "print(gis_yes, gis_no)"
   ]
  },
  {
   "cell_type": "code",
   "execution_count": 8,
   "metadata": {},
   "outputs": [
    {
     "data": {
      "image/png": "[encoded data removed]",
      "text/plain": [
       "<Figure size 504x504 with 9 Axes>"
      ]
     },
     "metadata": {
      "needs_background": "light"
     },
     "output_type": "display_data"
    }
   ],
   "source": [
    "# formula = PCREFz + PCDCz + (zSMCAUSlsa - zSMCAUSwn) - PCCNCz - zWRDIMGc - zWRDHYPnv\n",
    "cols = [[\"PCREFz\", 0, 0], [\"PCDCz\", 0, 1], [\"zSMCAUSlsa\", 0, 2], [\"zSMCAUSwn\", 1, 0], \n",
    "        [\"PCCNCz\", 1, 1], [\"zWRDIMGc\", 1, 2], [\"zWRDHYPnv\", 2, 0]]\n",
    "\n",
    "cols_gispy = [[\"PCREF\", 0, 0], [\"PCDC\", 0, 1], [\"SMCAUSlsa\", 0, 2], [\"SMCAUSwn\", 1, 0], \n",
    "        [\"PCCNCz\", 1, 1], [\"WRDIMGc\", 1, 2], [\"WRDHYPnv\", 2, 0]]\n",
    "\n",
    "fig, axis = plt.subplots(3, 3, figsize=(7,7), constrained_layout=True)\n",
    "\n",
    "for col in cols_gispy:\n",
    "    axis[col[1], col[2]].boxplot([df_yes[col[0]], df_no[col[0]]], labels=['Gist', 'No Gist'])\n",
    "    axis[col[1], col[2]].set_title(col[0])\n",
    "\n",
    "axis[2, 1].set_axis_off()\n",
    "axis[2, 2].set_axis_off()\n",
    "\n",
    "fig.savefig('aaa.pdf')"
   ]
  },
  {
   "cell_type": "code",
   "execution_count": 19,
   "metadata": {},
   "outputs": [
    {
     "data": {
      "image/png": "[encoded data removed]",
      "text/plain": [
       "<Figure size 1440x720 with 1 Axes>"
      ]
     },
     "metadata": {
      "needs_background": "light"
     },
     "output_type": "display_data"
    }
   ],
   "source": [
    "# formula = PCREFz + PCDCz + (zSMCAUSlsa - zSMCAUSwn) - PCCNCz - zWRDIMGc - zWRDHYPnv\n",
    "cols = [\"PCREFz\", \"PCDCz\", \"zSMCAUSlsa\", \"zSMCAUSwn\", \"PCCNCz\", \"zWRDIMGc\", \"zWRDHYPnv\"]\n",
    "\n",
    "fig = plt.figure(figsize =(20, 10))\n",
    "\n",
    "plots = []\n",
    "\n",
    "for col in cols:\n",
    "    plots.append(df_yes[col])\n",
    "    plots.append(df_no[col])\n",
    "\n",
    "# Creating plot\n",
    "plt.boxplot(plots)\n",
    "\n",
    "# show plot\n",
    "plt.show()"
   ]
  },
  {
   "cell_type": "code",
   "execution_count": 17,
   "metadata": {},
   "outputs": [
    {
     "data": {
      "text/plain": [
       "14"
      ]
     },
     "execution_count": 17,
     "metadata": {},
     "output_type": "execute_result"
    }
   ],
   "source": [
    "len(plots)"
   ]
  },
  {
   "cell_type": "markdown",
   "metadata": {},
   "source": [
    "## NCI Coh-Metrix Scored\n",
    "There are two types of text for each disease: 1) `Patient` version, and 2) `Health Professional (HP)` version. And for each type, there are different texts separately annotated for gist and verbatim (T1, T2, T3, etc.) Based on Chris Wolfe: \"the articles for Physicians (HP, I guess) tended to be more gist whereas the ones for patients tended to be more verbatim\"\n",
    "\n",
    "For now, since there are no detailed scores available for different texts, we don’t use the NCI-related texts for evaluating our tool.\n"
   ]
  },
  {
   "cell_type": "code",
   "execution_count": 9,
   "metadata": {},
   "outputs": [],
   "source": [
    "file_paths = ['../data/wolfe/NCI_CohMetrix_Scored_042918/NCI_Texts-Mitch.docx',\n",
    "              '../data/wolfe/NCI_CohMetrix_Scored_042918/NCI_Texts-Tatum.docx',\n",
    "              '../data/wolfe/NCI_CohMetrix_Scored_042918/NCI_Texts-Vasanthi.docx']"
   ]
  },
  {
   "cell_type": "code",
   "execution_count": 10,
   "metadata": {},
   "outputs": [],
   "source": [
    "df = pd.DataFrame(columns=['title', 'url', 'text'])\n",
    "\n",
    "for file_path in file_paths:\n",
    "    lines = read_word_text(file_path).split('\\n')\n",
    "    i = 4\n",
    "    title = lines[0]\n",
    "    url = lines[2]\n",
    "    current_text = []\n",
    "    while i < len(lines):\n",
    "        if lines[i].startswith('https'):\n",
    "            # saving the current article\n",
    "            df = df.append({'title': title, 'url': url, 'text': '\\n'.join(current_text)}, ignore_index=True)\n",
    "            title = lines[i-2]\n",
    "            url = lines[i]\n",
    "            current_text = []\n",
    "            i += 1\n",
    "        else:\n",
    "            current_text.append(lines[i])\n",
    "            i += 1"
   ]
  },
  {
   "cell_type": "code",
   "execution_count": 11,
   "metadata": {},
   "outputs": [
    {
     "data": {
      "text/html": [
       "<div>\n",
       "<style scoped>\n",
       "    .dataframe tbody tr th:only-of-type {\n",
       "        vertical-align: middle;\n",
       "    }\n",
       "\n",
       "    .dataframe tbody tr th {\n",
       "        vertical-align: top;\n",
       "    }\n",
       "\n",
       "    .dataframe thead th {\n",
       "        text-align: right;\n",
       "    }\n",
       "</style>\n",
       "<table border=\"1\" class=\"dataframe\">\n",
       "  <thead>\n",
       "    <tr style=\"text-align: right;\">\n",
       "      <th></th>\n",
       "      <th>title</th>\n",
       "      <th>url</th>\n",
       "      <th>text</th>\n",
       "    </tr>\n",
       "  </thead>\n",
       "  <tbody>\n",
       "    <tr>\n",
       "      <th>0</th>\n",
       "      <td>Leukemia/Patient Version</td>\n",
       "      <td>https://www.cancer.gov/types/leukemia</td>\n",
       "      <td>OVERVIEW\\n\\nLeukemia is cancer of the blood ce...</td>\n",
       "    </tr>\n",
       "    <tr>\n",
       "      <th>1</th>\n",
       "      <td>Leukemia/HP Version</td>\n",
       "      <td>https://www.cancer.gov/types/leukemia/hp</td>\n",
       "      <td>\\nT1\\n\\nGeneral Information About Adult Acute ...</td>\n",
       "    </tr>\n",
       "    <tr>\n",
       "      <th>2</th>\n",
       "      <td>Adrenocortical Carcinoma/Patient Version</td>\n",
       "      <td>https://www.cancer.gov/types/adrenocortical</td>\n",
       "      <td>\\nOVERVIEW\\n\\nAdrenocortical cancer is a rare ...</td>\n",
       "    </tr>\n",
       "  </tbody>\n",
       "</table>\n",
       "</div>"
      ],
      "text/plain": [
       "                                      title  \\\n",
       "0                 Leukemia/Patient Version    \n",
       "1                       Leukemia/HP Version   \n",
       "2  Adrenocortical Carcinoma/Patient Version   \n",
       "\n",
       "                                           url  \\\n",
       "0        https://www.cancer.gov/types/leukemia   \n",
       "1     https://www.cancer.gov/types/leukemia/hp   \n",
       "2  https://www.cancer.gov/types/adrenocortical   \n",
       "\n",
       "                                                text  \n",
       "0  OVERVIEW\\n\\nLeukemia is cancer of the blood ce...  \n",
       "1  \\nT1\\n\\nGeneral Information About Adult Acute ...  \n",
       "2  \\nOVERVIEW\\n\\nAdrenocortical cancer is a rare ...  "
      ]
     },
     "execution_count": 11,
     "metadata": {},
     "output_type": "execute_result"
    }
   ],
   "source": [
    "df.head(3)"
   ]
  },
  {
   "cell_type": "code",
   "execution_count": 12,
   "metadata": {},
   "outputs": [],
   "source": [
    "df.to_excel('nci_cohmetrix_scored.xlsx')"
   ]
  },
  {
   "cell_type": "code",
   "execution_count": 9,
   "metadata": {},
   "outputs": [
    {
     "name": "stdout",
     "output_type": "stream",
     "text": [
      "(2, 4)\n",
      "(1, 2)\n",
      "(3, 4)\n",
      "(1, 4)\n",
      "(2, 3)\n",
      "(1, 3)\n"
     ]
    }
   ],
   "source": [
    "a = [1, 2, 3, 4]\n",
    "import itertools\n",
    "pairs = set(itertools.combinations(a, r=2))\n",
    "for pair in pairs:\n",
    "    print(pair)"
   ]
  },
  {
   "cell_type": "code",
   "execution_count": 7,
   "metadata": {},
   "outputs": [
    {
     "name": "stdout",
     "output_type": "stream",
     "text": [
      "[(2, 2, 2, 2), (2, 2, 2, 4), (2, 2, 2, 4), (2, 2, 2, 4), (2, 2, 2, 4)]\n",
      "{(2, 2, 2, 2), (2, 2, 2, 4)}\n"
     ]
    }
   ],
   "source": [
    "t = [2,2,2,2,4]\n",
    "c = list(itertools.combinations(t, 4))\n",
    "print(c)\n",
    "unq = set(c)\n",
    "print(unq)"
   ]
  },
  {
   "cell_type": "code",
   "execution_count": null,
   "metadata": {},
   "outputs": [],
   "source": []
  }
 ],
 "metadata": {
  "kernelspec": {
   "display_name": "gispy",
   "language": "python",
   "name": "gispy"
  },
  "language_info": {
   "codemirror_mode": {
    "name": "ipython",
    "version": 3
   },
   "file_extension": ".py",
   "mimetype": "text/x-python",
   "name": "python",
   "nbconvert_exporter": "python",
   "pygments_lexer": "ipython3",
   "version": "3.8.12"
  }
 },
 "nbformat": 4,
 "nbformat_minor": 4
}
