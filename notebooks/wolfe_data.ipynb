{
 "cells": [
  {
   "cell_type": "code",
   "execution_count": 1,
   "metadata": {},
   "outputs": [],
   "source": [
    "import os\n",
    "import sys\n",
    "\n",
    "# adding classes folder to system path\n",
    "sys.path.insert(0, os.path.abspath('..') + '/gispy')\n",
    "\n",
    "import re\n",
    "import copy\n",
    "import statistics\n",
    "import numpy as np\n",
    "import pandas as pd\n",
    "import matplotlib.pyplot as plt\n",
    "\n",
    "from gist import GIS\n",
    "from wolfe import WolfeData, wolfe_eval\n",
    "\n",
    "def plot_scores(df_gist, df_no_gist, gispy_cols_head=False, output_file_name='scores.pdf'):\n",
    "    # formula = PCREFz + PCDCz + (zSMCAUSlsa - zSMCAUSwn) - PCCNCz - zWRDIMGc - zWRDHYPnv\n",
    "    cols = [[\"PCREFz\", 0, 0], [\"PCDCz\", 0, 1], [\"zSMCAUSlsa\", 0, 2], [\"zSMCAUSwn\", 1, 0], [\"PCCNCz\", 1, 1], [\"zWRDIMGc\", 1, 2], [\"zWRDHYPnv\", 2, 0]]\n",
    "\n",
    "    gispy_cols = [[\"PCREF\", 0, 0], [\"PCDC\", 0, 1], [\"SMCAUSlsa\", 0, 2], [\"SMCAUSwn\", 1, 0], [\"PCCNC\", 1, 1], [\"WRDIMGc\", 1, 2], [\"WRDHYPnv\", 2, 0]]\n",
    "\n",
    "    fig, axis = plt.subplots(3, 3, figsize=(7,7), constrained_layout=True)\n",
    "\n",
    "    if gispy_cols_head:\n",
    "        cols = gispy_cols\n",
    "    \n",
    "    for col in cols:\n",
    "        axis[col[1], col[2]].boxplot([df_gist[col[0]], df_no_gist[col[0]]], labels=['Gist', 'No Gist'])\n",
    "        axis[col[1], col[2]].set_title(col[0])\n",
    "\n",
    "    axis[2, 1].set_axis_off()\n",
    "    axis[2, 2].set_axis_off()\n",
    "    \n",
    "    fig.savefig(output_file_name)"
   ]
  },
  {
   "cell_type": "markdown",
   "metadata": {},
   "source": [
    "## Report vs. Opinion"
   ]
  },
  {
   "cell_type": "code",
   "execution_count": 2,
   "metadata": {},
   "outputs": [
    {
     "name": "stdout",
     "output_type": "stream",
     "text": [
      "50\n"
     ]
    }
   ],
   "source": [
    "folder_path = '../data/wolfe/Report_vs_Opinion/Report_Opinion.docx'\n",
    "df = WolfeData().convert_opinion_report_data(folder_path, create_text_file=False)\n",
    "print(len(df))"
   ]
  },
  {
   "cell_type": "code",
   "execution_count": 3,
   "metadata": {},
   "outputs": [],
   "source": [
    "index_flag = {'PCREFz': True,\n",
    "              'PCDCz': True,\n",
    "              'PCCNCz': True,\n",
    "              'zSMCAUSlsa': True,\n",
    "              'zSMCAUSwn': True,\n",
    "              'zWRDIMGc': True,\n",
    "              'zWRDHYPnv': True}\n",
    "\n",
    "results, df_yes, df_no = wolfe_eval('../data/wolfe_cohmetrix.csv', \n",
    "                                    'opinion', \n",
    "                                    'report', \n",
    "                                    index_flag,\n",
    "                                    use_wolfe_vars=False, \n",
    "                                    use_gispy_vars=False)"
   ]
  },
  {
   "cell_type": "code",
   "execution_count": 4,
   "metadata": {},
   "outputs": [
    {
     "data": {
      "text/plain": [
       "{'mean_gist_yes': -0.810821447390109,\n",
       " 'mean_gist_no': -3.505483055275745,\n",
       " 'ttest_statistic': 3.92108117863536,\n",
       " 'ttest_pvalue': 0.00027956041206192667}"
      ]
     },
     "execution_count": 4,
     "metadata": {},
     "output_type": "execute_result"
    }
   ],
   "source": [
    "results"
   ]
  },
  {
   "cell_type": "code",
   "execution_count": 5,
   "metadata": {},
   "outputs": [
    {
     "data": {
      "image/png": "[encoded data removed]",
      "text/plain": [
       "<Figure size 504x504 with 9 Axes>"
      ]
     },
     "metadata": {
      "needs_background": "light"
     },
     "output_type": "display_data"
    }
   ],
   "source": [
    "plot_scores(df_yes, df_no, gispy_cols_head=False)"
   ]
  },
  {
   "cell_type": "markdown",
   "metadata": {},
   "source": [
    "## Methods vs. Discussion"
   ]
  },
  {
   "cell_type": "code",
   "execution_count": 6,
   "metadata": {},
   "outputs": [
    {
     "name": "stdout",
     "output_type": "stream",
     "text": [
      "25\n"
     ]
    }
   ],
   "source": [
    "folder_path = '../data/wolfe/Methods_vs_Discussion/Methods_Discussion.docx'\n",
    "df = WolfeData().convert_methods_discussion_data(folder_path, create_text_file=False)\n",
    "print(len(df))"
   ]
  },
  {
   "cell_type": "code",
   "execution_count": 15,
   "metadata": {},
   "outputs": [],
   "source": [
    "results, df_yes, df_no = wolfe_eval('../data/wolfe_gispy.csv', \n",
    "                                    gist_prefix='d', \n",
    "                                    no_gist_prefix='m', \n",
    "                                    use_wolfe_vars=False, \n",
    "                                    use_gispy_vars=True)"
   ]
  },
  {
   "cell_type": "code",
   "execution_count": 16,
   "metadata": {},
   "outputs": [
    {
     "data": {
      "text/plain": [
       "{'mean_gist_yes': 2.7935938527941517,\n",
       " 'mean_gist_no': -0.8010501001405407,\n",
       " 'ttest_statistic': 4.867443394863603,\n",
       " 'ttest_pvalue': 1.2642598061661247e-05}"
      ]
     },
     "execution_count": 16,
     "metadata": {},
     "output_type": "execute_result"
    }
   ],
   "source": [
    "results"
   ]
  },
  {
   "cell_type": "code",
   "execution_count": 19,
   "metadata": {},
   "outputs": [
    {
     "data": {
      "text/plain": [
       "'0.0000000852'"
      ]
     },
     "execution_count": 19,
     "metadata": {},
     "output_type": "execute_result"
    }
   ],
   "source": [
    "float(results['ttest_pvalue'])\n",
    "round(x, 10)\n",
    "\"{:.10f}\".format(x)"
   ]
  },
  {
   "cell_type": "code",
   "execution_count": 13,
   "metadata": {},
   "outputs": [
    {
     "data": {
      "image/png": "[encoded data removed]",
      "text/plain": [
       "<Figure size 504x504 with 9 Axes>"
      ]
     },
     "metadata": {
      "needs_background": "light"
     },
     "output_type": "display_data"
    }
   ],
   "source": [
    "plot_scores(df_yes, df_no, gispy_cols_head=False)"
   ]
  },
  {
   "cell_type": "markdown",
   "metadata": {},
   "source": [
    "## NCI Coh-Metrix Scored\n",
    "There are two types of text for each disease: 1) `Patient` version, and 2) `Health Professional (HP)` version. And for each type, there are different texts separately annotated for gist and verbatim (T1, T2, T3, etc.) Based on Chris Wolfe: \"the articles for Physicians (HP, I guess) tended to be more gist whereas the ones for patients tended to be more verbatim\"\n",
    "\n",
    "For now, since there are no detailed scores available for different texts, we don’t use the NCI-related texts for evaluating our tool.\n"
   ]
  },
  {
   "cell_type": "code",
   "execution_count": 9,
   "metadata": {},
   "outputs": [],
   "source": [
    "file_paths = ['../data/wolfe/NCI_CohMetrix_Scored_042918/NCI_Texts-Mitch.docx',\n",
    "              '../data/wolfe/NCI_CohMetrix_Scored_042918/NCI_Texts-Tatum.docx',\n",
    "              '../data/wolfe/NCI_CohMetrix_Scored_042918/NCI_Texts-Vasanthi.docx']"
   ]
  },
  {
   "cell_type": "code",
   "execution_count": 10,
   "metadata": {},
   "outputs": [],
   "source": [
    "df = pd.DataFrame(columns=['title', 'url', 'text'])\n",
    "\n",
    "for file_path in file_paths:\n",
    "    lines = read_word_text(file_path).split('\\n')\n",
    "    i = 4\n",
    "    title = lines[0]\n",
    "    url = lines[2]\n",
    "    current_text = []\n",
    "    while i < len(lines):\n",
    "        if lines[i].startswith('https'):\n",
    "            # saving the current article\n",
    "            df = df.append({'title': title, 'url': url, 'text': '\\n'.join(current_text)}, ignore_index=True)\n",
    "            title = lines[i-2]\n",
    "            url = lines[i]\n",
    "            current_text = []\n",
    "            i += 1\n",
    "        else:\n",
    "            current_text.append(lines[i])\n",
    "            i += 1"
   ]
  },
  {
   "cell_type": "code",
   "execution_count": 11,
   "metadata": {},
   "outputs": [
    {
     "data": {
      "text/html": [
       "<div>\n",
       "<style scoped>\n",
       "    .dataframe tbody tr th:only-of-type {\n",
       "        vertical-align: middle;\n",
       "    }\n",
       "\n",
       "    .dataframe tbody tr th {\n",
       "        vertical-align: top;\n",
       "    }\n",
       "\n",
       "    .dataframe thead th {\n",
       "        text-align: right;\n",
       "    }\n",
       "</style>\n",
       "<table border=\"1\" class=\"dataframe\">\n",
       "  <thead>\n",
       "    <tr style=\"text-align: right;\">\n",
       "      <th></th>\n",
       "      <th>title</th>\n",
       "      <th>url</th>\n",
       "      <th>text</th>\n",
       "    </tr>\n",
       "  </thead>\n",
       "  <tbody>\n",
       "    <tr>\n",
       "      <th>0</th>\n",
       "      <td>Leukemia/Patient Version</td>\n",
       "      <td>https://www.cancer.gov/types/leukemia</td>\n",
       "      <td>OVERVIEW\\n\\nLeukemia is cancer of the blood ce...</td>\n",
       "    </tr>\n",
       "    <tr>\n",
       "      <th>1</th>\n",
       "      <td>Leukemia/HP Version</td>\n",
       "      <td>https://www.cancer.gov/types/leukemia/hp</td>\n",
       "      <td>\\nT1\\n\\nGeneral Information About Adult Acute ...</td>\n",
       "    </tr>\n",
       "    <tr>\n",
       "      <th>2</th>\n",
       "      <td>Adrenocortical Carcinoma/Patient Version</td>\n",
       "      <td>https://www.cancer.gov/types/adrenocortical</td>\n",
       "      <td>\\nOVERVIEW\\n\\nAdrenocortical cancer is a rare ...</td>\n",
       "    </tr>\n",
       "  </tbody>\n",
       "</table>\n",
       "</div>"
      ],
      "text/plain": [
       "                                      title  \\\n",
       "0                 Leukemia/Patient Version    \n",
       "1                       Leukemia/HP Version   \n",
       "2  Adrenocortical Carcinoma/Patient Version   \n",
       "\n",
       "                                           url  \\\n",
       "0        https://www.cancer.gov/types/leukemia   \n",
       "1     https://www.cancer.gov/types/leukemia/hp   \n",
       "2  https://www.cancer.gov/types/adrenocortical   \n",
       "\n",
       "                                                text  \n",
       "0  OVERVIEW\\n\\nLeukemia is cancer of the blood ce...  \n",
       "1  \\nT1\\n\\nGeneral Information About Adult Acute ...  \n",
       "2  \\nOVERVIEW\\n\\nAdrenocortical cancer is a rare ...  "
      ]
     },
     "execution_count": 11,
     "metadata": {},
     "output_type": "execute_result"
    }
   ],
   "source": [
    "df.head(3)"
   ]
  },
  {
   "cell_type": "code",
   "execution_count": 12,
   "metadata": {},
   "outputs": [],
   "source": [
    "df.to_excel('nci_cohmetrix_scored.xlsx')"
   ]
  }
 ],
 "metadata": {
  "kernelspec": {
   "display_name": "gispy-env",
   "language": "python",
   "name": "gispy-env"
  },
  "language_info": {
   "codemirror_mode": {
    "name": "ipython",
    "version": 3
   },
   "file_extension": ".py",
   "mimetype": "text/x-python",
   "name": "python",
   "nbconvert_exporter": "python",
   "pygments_lexer": "ipython3",
   "version": "3.7.12"
  }
 },
 "nbformat": 4,
 "nbformat_minor": 4
}
