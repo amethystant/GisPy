{
 "cells": [
  {
   "cell_type": "code",
   "execution_count": 1,
   "metadata": {},
   "outputs": [],
   "source": [
    "import re\n",
    "import textract\n",
    "import pandas as pd\n",
    "\n",
    "def read_word_text(file_path):\n",
    "    # reading the text from file\n",
    "    text = textract.process(file_path)\n",
    "    text = text.decode('utf-8')\n",
    "\n",
    "    # replacing more than three new line characters with only two\n",
    "    text = re.sub(r'[\\n]{3,}', '\\n\\n', text)\n",
    "    \n",
    "    return text"
   ]
  },
  {
   "cell_type": "markdown",
   "metadata": {},
   "source": [
    "## Report vs. Opinion"
   ]
  },
  {
   "cell_type": "code",
   "execution_count": 2,
   "metadata": {},
   "outputs": [],
   "source": [
    "file_path = '../data/wolfe/Report_vs_Opinion/Report_Opinion_Comparison.docx'\n",
    "text = read_word_text(file_path)"
   ]
  },
  {
   "cell_type": "code",
   "execution_count": 3,
   "metadata": {},
   "outputs": [],
   "source": [
    "df = pd.DataFrame(columns=['title', 'type', 'url', 'text'])\n",
    "lines = text.split('\\n')\n",
    "\n",
    "i = 4\n",
    "doc_text = []\n",
    "doc_title = lines[0] \n",
    "doc_url = lines[2]\n",
    "\n",
    "while i < len(lines):\n",
    "    if lines[i].startswith('Opinion-') or lines[i].startswith('Report-'):\n",
    "        df = df.append({'title': doc_title, 'type': doc_title.split('-')[0].lower(), 'url': doc_url, 'text': '\\n'.join(doc_text)}, ignore_index=True)\n",
    "        doc_title = lines[i]\n",
    "        doc_url = lines[i+2]\n",
    "        doc_text = []\n",
    "        i += 4\n",
    "    else:\n",
    "        doc_text.append(lines[i])\n",
    "        i += 1"
   ]
  },
  {
   "cell_type": "code",
   "execution_count": 4,
   "metadata": {},
   "outputs": [
    {
     "data": {
      "text/html": [
       "<div>\n",
       "<style scoped>\n",
       "    .dataframe tbody tr th:only-of-type {\n",
       "        vertical-align: middle;\n",
       "    }\n",
       "\n",
       "    .dataframe tbody tr th {\n",
       "        vertical-align: top;\n",
       "    }\n",
       "\n",
       "    .dataframe thead th {\n",
       "        text-align: right;\n",
       "    }\n",
       "</style>\n",
       "<table border=\"1\" class=\"dataframe\">\n",
       "  <thead>\n",
       "    <tr style=\"text-align: right;\">\n",
       "      <th></th>\n",
       "      <th>title</th>\n",
       "      <th>type</th>\n",
       "      <th>url</th>\n",
       "      <th>text</th>\n",
       "    </tr>\n",
       "  </thead>\n",
       "  <tbody>\n",
       "    <tr>\n",
       "      <th>0</th>\n",
       "      <td>Report-Hawking</td>\n",
       "      <td>report</td>\n",
       "      <td>https://www.usatoday.com/story/news/2018/03/14...</td>\n",
       "      <td>Stephen Hawking, one of the world's foremost t...</td>\n",
       "    </tr>\n",
       "    <tr>\n",
       "      <th>1</th>\n",
       "      <td>Opinion-Hawking</td>\n",
       "      <td>opinion</td>\n",
       "      <td>https://www.usatoday.com/story/news/2018/03/14...</td>\n",
       "      <td>Stephen Hawking, one of the greatest scientist...</td>\n",
       "    </tr>\n",
       "    <tr>\n",
       "      <th>2</th>\n",
       "      <td>Report-Gun control</td>\n",
       "      <td>report</td>\n",
       "      <td>https://www.usatoday.com/story/news/politics/2...</td>\n",
       "      <td>WASHINGTON — As students across the country pr...</td>\n",
       "    </tr>\n",
       "  </tbody>\n",
       "</table>\n",
       "</div>"
      ],
      "text/plain": [
       "                title     type  \\\n",
       "0      Report-Hawking   report   \n",
       "1    Opinion-Hawking   opinion   \n",
       "2  Report-Gun control   report   \n",
       "\n",
       "                                                 url  \\\n",
       "0  https://www.usatoday.com/story/news/2018/03/14...   \n",
       "1  https://www.usatoday.com/story/news/2018/03/14...   \n",
       "2  https://www.usatoday.com/story/news/politics/2...   \n",
       "\n",
       "                                                text  \n",
       "0  Stephen Hawking, one of the world's foremost t...  \n",
       "1  Stephen Hawking, one of the greatest scientist...  \n",
       "2  WASHINGTON — As students across the country pr...  "
      ]
     },
     "execution_count": 4,
     "metadata": {},
     "output_type": "execute_result"
    }
   ],
   "source": [
    "df.head(3)"
   ]
  },
  {
   "cell_type": "code",
   "execution_count": 5,
   "metadata": {},
   "outputs": [],
   "source": [
    "df.to_excel('report_vs_opinion.xlsx')"
   ]
  },
  {
   "cell_type": "markdown",
   "metadata": {},
   "source": [
    "## Methods vs. Discussion"
   ]
  },
  {
   "cell_type": "code",
   "execution_count": 2,
   "metadata": {},
   "outputs": [
    {
     "name": "stdout",
     "output_type": "stream",
     "text": [
      "25 545\n"
     ]
    }
   ],
   "source": [
    "file_path = '../data/wolfe/Methods_vs_Discussion/Wolfe_methods_and_discussion_comparison.docx'\n",
    "text = read_word_text(file_path)\n",
    "\n",
    "# ARTICLE\n",
    "# METHODS\n",
    "# DISCUSSION\n",
    "\n",
    "df = pd.DataFrame(columns=['title', 'methods', 'discussion'])\n",
    "lines = text.split('\\n')\n",
    "\n",
    "article_title = \"\"\n",
    "methods = []\n",
    "discussion = []\n",
    "\n",
    "i = 0\n",
    "\n",
    "while i < len(lines):\n",
    "    if lines[i].strip().lower().startswith('article'):\n",
    "        article_title = ' '.join(lines[i].split(':')[1:]).strip()\n",
    "        i += 4\n",
    "        while i < len(lines) and not lines[i].lower().startswith('discussion'):\n",
    "            methods.append(lines[i])\n",
    "            i += 1\n",
    "        i += 2\n",
    "        while i < len(lines) and not lines[i].strip().lower().startswith('article'):\n",
    "            discussion.append(lines[i])\n",
    "            i += 1\n",
    "\n",
    "        if article_title != \"\" and len(methods) > 0 and len(discussion) > 0:\n",
    "            df = df.append({'title': article_title, 'methods': '\\n'.join(methods), 'discussion': '\\n'.join(discussion)}, ignore_index=True)\n",
    "            article_title = \"\"\n",
    "            methods = []\n",
    "            discussion = []\n",
    "\n",
    "print(len(df), i)"
   ]
  },
  {
   "cell_type": "code",
   "execution_count": 3,
   "metadata": {},
   "outputs": [
    {
     "data": {
      "text/html": [
       "<div>\n",
       "<style scoped>\n",
       "    .dataframe tbody tr th:only-of-type {\n",
       "        vertical-align: middle;\n",
       "    }\n",
       "\n",
       "    .dataframe tbody tr th {\n",
       "        vertical-align: top;\n",
       "    }\n",
       "\n",
       "    .dataframe thead th {\n",
       "        text-align: right;\n",
       "    }\n",
       "</style>\n",
       "<table border=\"1\" class=\"dataframe\">\n",
       "  <thead>\n",
       "    <tr style=\"text-align: right;\">\n",
       "      <th></th>\n",
       "      <th>title</th>\n",
       "      <th>methods</th>\n",
       "      <th>discussion</th>\n",
       "    </tr>\n",
       "  </thead>\n",
       "  <tbody>\n",
       "    <tr>\n",
       "      <th>0</th>\n",
       "      <td>Common Modality Effects in Immediate Free Reca...</td>\n",
       "      <td>Forty participants from the University of Esse...</td>\n",
       "      <td>A third feature of our data that may constrain...</td>\n",
       "    </tr>\n",
       "    <tr>\n",
       "      <th>1</th>\n",
       "      <td>Retuning of Lexical-Semantic Representations  ...</td>\n",
       "      <td>Thirty-three native British English speakers p...</td>\n",
       "      <td>Finally, in contrast to these two views, which...</td>\n",
       "    </tr>\n",
       "    <tr>\n",
       "      <th>2</th>\n",
       "      <td>Threat of Shock and Aversive Inhibition  Induc...</td>\n",
       "      <td>Sixty-two healthy participants (39 females; ag...</td>\n",
       "      <td>As a potential caveat, it should be noted that...</td>\n",
       "    </tr>\n",
       "  </tbody>\n",
       "</table>\n",
       "</div>"
      ],
      "text/plain": [
       "                                               title  \\\n",
       "0  Common Modality Effects in Immediate Free Reca...   \n",
       "1  Retuning of Lexical-Semantic Representations  ...   \n",
       "2  Threat of Shock and Aversive Inhibition  Induc...   \n",
       "\n",
       "                                             methods  \\\n",
       "0  Forty participants from the University of Esse...   \n",
       "1  Thirty-three native British English speakers p...   \n",
       "2  Sixty-two healthy participants (39 females; ag...   \n",
       "\n",
       "                                          discussion  \n",
       "0  A third feature of our data that may constrain...  \n",
       "1  Finally, in contrast to these two views, which...  \n",
       "2  As a potential caveat, it should be noted that...  "
      ]
     },
     "execution_count": 3,
     "metadata": {},
     "output_type": "execute_result"
    }
   ],
   "source": [
    "df.head(3)"
   ]
  },
  {
   "cell_type": "code",
   "execution_count": 8,
   "metadata": {},
   "outputs": [],
   "source": [
    "df.to_excel('methods_vs_discussion.xlsx')"
   ]
  },
  {
   "cell_type": "markdown",
   "metadata": {},
   "source": [
    "### Create text files"
   ]
  },
  {
   "cell_type": "code",
   "execution_count": 4,
   "metadata": {},
   "outputs": [],
   "source": [
    "doc_folder = '../data/documents'\n",
    "for i in range(len(df)):\n",
    "    with open('{}/m_{}.txt'.format(doc_folder, i), 'w') as text_file:\n",
    "        text_file.write(df.iloc[i]['methods'])\n",
    "    with open('{}/d_{}.txt'.format(doc_folder, i), 'w') as text_file:\n",
    "        text_file.write(df.iloc[i]['discussion'])"
   ]
  },
  {
   "cell_type": "markdown",
   "metadata": {},
   "source": [
    "## NCI Coh-Metrix Scored\n",
    "There are two types of text for each disease: 1) `Patient` version, and 2) `Health Professional (HP)` version. And for each type, there are different texts separately annotated for gist and verbatim (T1, T2, T3, etc.) Based on Chris Wolfe: \"the articles for Physicians (HP, I guess) tended to be more gist whereas the ones for patients tended to be more verbatim\"\n",
    "\n",
    "For now, since there are no detailed scores available for different texts, we don’t use the NCI-related texts for evaluating our tool.\n"
   ]
  },
  {
   "cell_type": "code",
   "execution_count": 9,
   "metadata": {},
   "outputs": [],
   "source": [
    "file_paths = ['../data/wolfe/NCI_CohMetrix_Scored_042918/NCI_Texts-Mitch.docx',\n",
    "              '../data/wolfe/NCI_CohMetrix_Scored_042918/NCI_Texts-Tatum.docx',\n",
    "              '../data/wolfe/NCI_CohMetrix_Scored_042918/NCI_Texts-Vasanthi.docx']"
   ]
  },
  {
   "cell_type": "code",
   "execution_count": 10,
   "metadata": {},
   "outputs": [],
   "source": [
    "df = pd.DataFrame(columns=['title', 'url', 'text'])\n",
    "\n",
    "for file_path in file_paths:\n",
    "    lines = read_word_text(file_path).split('\\n')\n",
    "    i = 4\n",
    "    title = lines[0]\n",
    "    url = lines[2]\n",
    "    current_text = []\n",
    "    while i < len(lines):\n",
    "        if lines[i].startswith('https'):\n",
    "            # saving the current article\n",
    "            df = df.append({'title': title, 'url': url, 'text': '\\n'.join(current_text)}, ignore_index=True)\n",
    "            title = lines[i-2]\n",
    "            url = lines[i]\n",
    "            current_text = []\n",
    "            i += 1\n",
    "        else:\n",
    "            current_text.append(lines[i])\n",
    "            i += 1"
   ]
  },
  {
   "cell_type": "code",
   "execution_count": 11,
   "metadata": {},
   "outputs": [
    {
     "data": {
      "text/html": [
       "<div>\n",
       "<style scoped>\n",
       "    .dataframe tbody tr th:only-of-type {\n",
       "        vertical-align: middle;\n",
       "    }\n",
       "\n",
       "    .dataframe tbody tr th {\n",
       "        vertical-align: top;\n",
       "    }\n",
       "\n",
       "    .dataframe thead th {\n",
       "        text-align: right;\n",
       "    }\n",
       "</style>\n",
       "<table border=\"1\" class=\"dataframe\">\n",
       "  <thead>\n",
       "    <tr style=\"text-align: right;\">\n",
       "      <th></th>\n",
       "      <th>title</th>\n",
       "      <th>url</th>\n",
       "      <th>text</th>\n",
       "    </tr>\n",
       "  </thead>\n",
       "  <tbody>\n",
       "    <tr>\n",
       "      <th>0</th>\n",
       "      <td>Leukemia/Patient Version</td>\n",
       "      <td>https://www.cancer.gov/types/leukemia</td>\n",
       "      <td>OVERVIEW\\n\\nLeukemia is cancer of the blood ce...</td>\n",
       "    </tr>\n",
       "    <tr>\n",
       "      <th>1</th>\n",
       "      <td>Leukemia/HP Version</td>\n",
       "      <td>https://www.cancer.gov/types/leukemia/hp</td>\n",
       "      <td>\\nT1\\n\\nGeneral Information About Adult Acute ...</td>\n",
       "    </tr>\n",
       "    <tr>\n",
       "      <th>2</th>\n",
       "      <td>Adrenocortical Carcinoma/Patient Version</td>\n",
       "      <td>https://www.cancer.gov/types/adrenocortical</td>\n",
       "      <td>\\nOVERVIEW\\n\\nAdrenocortical cancer is a rare ...</td>\n",
       "    </tr>\n",
       "  </tbody>\n",
       "</table>\n",
       "</div>"
      ],
      "text/plain": [
       "                                      title  \\\n",
       "0                 Leukemia/Patient Version    \n",
       "1                       Leukemia/HP Version   \n",
       "2  Adrenocortical Carcinoma/Patient Version   \n",
       "\n",
       "                                           url  \\\n",
       "0        https://www.cancer.gov/types/leukemia   \n",
       "1     https://www.cancer.gov/types/leukemia/hp   \n",
       "2  https://www.cancer.gov/types/adrenocortical   \n",
       "\n",
       "                                                text  \n",
       "0  OVERVIEW\\n\\nLeukemia is cancer of the blood ce...  \n",
       "1  \\nT1\\n\\nGeneral Information About Adult Acute ...  \n",
       "2  \\nOVERVIEW\\n\\nAdrenocortical cancer is a rare ...  "
      ]
     },
     "execution_count": 11,
     "metadata": {},
     "output_type": "execute_result"
    }
   ],
   "source": [
    "df.head(3)"
   ]
  },
  {
   "cell_type": "code",
   "execution_count": 12,
   "metadata": {},
   "outputs": [],
   "source": [
    "df.to_excel('nci_cohmetrix_scored.xlsx')"
   ]
  },
  {
   "cell_type": "code",
   "execution_count": 9,
   "metadata": {},
   "outputs": [
    {
     "name": "stdout",
     "output_type": "stream",
     "text": [
      "(2, 4)\n",
      "(1, 2)\n",
      "(3, 4)\n",
      "(1, 4)\n",
      "(2, 3)\n",
      "(1, 3)\n"
     ]
    }
   ],
   "source": [
    "a = [1, 2, 3, 4]\n",
    "import itertools\n",
    "pairs = set(itertools.combinations(a, r=2))\n",
    "for pair in pairs:\n",
    "    print(pair)"
   ]
  },
  {
   "cell_type": "code",
   "execution_count": 7,
   "metadata": {},
   "outputs": [
    {
     "name": "stdout",
     "output_type": "stream",
     "text": [
      "[(2, 2, 2, 2), (2, 2, 2, 4), (2, 2, 2, 4), (2, 2, 2, 4), (2, 2, 2, 4)]\n",
      "{(2, 2, 2, 2), (2, 2, 2, 4)}\n"
     ]
    }
   ],
   "source": [
    "t = [2,2,2,2,4]\n",
    "c = list(itertools.combinations(t, 4))\n",
    "print(c)\n",
    "unq = set(c)\n",
    "print(unq)"
   ]
  },
  {
   "cell_type": "code",
   "execution_count": null,
   "metadata": {},
   "outputs": [],
   "source": []
  }
 ],
 "metadata": {
  "kernelspec": {
   "display_name": "gispy-env",
   "language": "python",
   "name": "gispy-env"
  },
  "language_info": {
   "codemirror_mode": {
    "name": "ipython",
    "version": 3
   },
   "file_extension": ".py",
   "mimetype": "text/x-python",
   "name": "python",
   "nbconvert_exporter": "python",
   "pygments_lexer": "ipython3",
   "version": "3.8.5"
  }
 },
 "nbformat": 4,
 "nbformat_minor": 4
}
