{
 "cells": [
  {
   "cell_type": "code",
   "execution_count": 1,
   "metadata": {},
   "outputs": [],
   "source": [
    "import os\n",
    "import sys\n",
    "\n",
    "# adding classes folder to system path\n",
    "sys.path.insert(0, os.path.abspath('..') + '/gispy')\n",
    "\n",
    "import re\n",
    "import copy\n",
    "import statistics\n",
    "import numpy as np\n",
    "import pandas as pd\n",
    "\n",
    "from gist import GIS\n",
    "from data_reader import GisPyData\n",
    "from benchmarks import Wolfe"
   ]
  },
  {
   "cell_type": "markdown",
   "metadata": {},
   "source": [
    "## Reports vs. Editorials"
   ]
  },
  {
   "cell_type": "code",
   "execution_count": 2,
   "metadata": {},
   "outputs": [
    {
     "name": "stdout",
     "output_type": "stream",
     "text": [
      "50\n"
     ]
    }
   ],
   "source": [
    "folder_path = '../data/wolfe/Report_vs_Opinion/Report_Opinion.docx'\n",
    "df = Wolfe().convert_opinion_report_data(folder_path, create_text_file=False)\n",
    "print(len(df))"
   ]
  },
  {
   "cell_type": "code",
   "execution_count": 3,
   "metadata": {},
   "outputs": [
    {
     "data": {
      "text/html": [
       "<div>\n",
       "<style scoped>\n",
       "    .dataframe tbody tr th:only-of-type {\n",
       "        vertical-align: middle;\n",
       "    }\n",
       "\n",
       "    .dataframe tbody tr th {\n",
       "        vertical-align: top;\n",
       "    }\n",
       "\n",
       "    .dataframe thead th {\n",
       "        text-align: right;\n",
       "    }\n",
       "</style>\n",
       "<table border=\"1\" class=\"dataframe\">\n",
       "  <thead>\n",
       "    <tr style=\"text-align: right;\">\n",
       "      <th></th>\n",
       "      <th>vars_name</th>\n",
       "      <th>mean_gist_yes</th>\n",
       "      <th>mean_gist_no</th>\n",
       "      <th>distance</th>\n",
       "      <th>ttest_statistic</th>\n",
       "      <th>ttest_pvalue</th>\n",
       "    </tr>\n",
       "  </thead>\n",
       "  <tbody>\n",
       "    <tr>\n",
       "      <th>0</th>\n",
       "      <td>0#PCREFz#PCDCz#zSMCAUSlsa#zSMCAUSwn#PCCNCz#zWR...</td>\n",
       "      <td>-1.613361</td>\n",
       "      <td>-4.147984</td>\n",
       "      <td>2.534624</td>\n",
       "      <td>3.825867</td>\n",
       "      <td>0.000376</td>\n",
       "    </tr>\n",
       "  </tbody>\n",
       "</table>\n",
       "</div>"
      ],
      "text/plain": [
       "                                           vars_name  mean_gist_yes  \\\n",
       "0  0#PCREFz#PCDCz#zSMCAUSlsa#zSMCAUSwn#PCCNCz#zWR...      -1.613361   \n",
       "\n",
       "   mean_gist_no  distance  ttest_statistic  ttest_pvalue  \n",
       "0     -4.147984  2.534624         3.825867      0.000376  "
      ]
     },
     "execution_count": 3,
     "metadata": {},
     "output_type": "execute_result"
    }
   ],
   "source": [
    "prefix_names = dict()\n",
    "prefix_names['gist_yes'] = 'opinion'\n",
    "prefix_names['gist_no'] = 'report'\n",
    "results = Wolfe().run_benchmark('../data/wolfe_cohmetrix.csv', prefix_names, use_wolfe_vars=True, use_gispy_vars=False, plot=False)\n",
    "results.head(10)"
   ]
  },
  {
   "cell_type": "code",
   "execution_count": 4,
   "metadata": {},
   "outputs": [
    {
     "name": "stdout",
     "output_type": "stream",
     "text": [
      "1\n"
     ]
    }
   ],
   "source": [
    "a = results[results['ttest_pvalue'].apply(lambda x: float(x) < 0.05)]\n",
    "print(len(a))"
   ]
  },
  {
   "cell_type": "code",
   "execution_count": 5,
   "metadata": {},
   "outputs": [],
   "source": [
    "# final_results = results[:10].round({'mean_gist_yes': 3, 'mean_gist_no': 3, 'distance': 3, 'ttest_statistic': 3, 'ttest_pvalue': 4})\n",
    "# with pd.option_context(\"max_colwidth\", 1000):\n",
    "#     print(final_results.to_latex(index=False))"
   ]
  },
  {
   "cell_type": "markdown",
   "metadata": {},
   "source": [
    "## Methods vs. Discussion"
   ]
  },
  {
   "cell_type": "code",
   "execution_count": 6,
   "metadata": {},
   "outputs": [
    {
     "name": "stdout",
     "output_type": "stream",
     "text": [
      "25\n"
     ]
    }
   ],
   "source": [
    "folder_path = '../data/wolfe/Methods_vs_Discussion/Methods_Discussion.docx'\n",
    "df = Wolfe().convert_methods_discussion_data(folder_path, create_text_file=False)\n",
    "print(len(df))"
   ]
  },
  {
   "cell_type": "code",
   "execution_count": 7,
   "metadata": {},
   "outputs": [
    {
     "data": {
      "text/html": [
       "<div>\n",
       "<style scoped>\n",
       "    .dataframe tbody tr th:only-of-type {\n",
       "        vertical-align: middle;\n",
       "    }\n",
       "\n",
       "    .dataframe tbody tr th {\n",
       "        vertical-align: top;\n",
       "    }\n",
       "\n",
       "    .dataframe thead th {\n",
       "        text-align: right;\n",
       "    }\n",
       "</style>\n",
       "<table border=\"1\" class=\"dataframe\">\n",
       "  <thead>\n",
       "    <tr style=\"text-align: right;\">\n",
       "      <th></th>\n",
       "      <th>vars_name</th>\n",
       "      <th>mean_gist_yes</th>\n",
       "      <th>mean_gist_no</th>\n",
       "      <th>distance</th>\n",
       "      <th>ttest_statistic</th>\n",
       "      <th>ttest_pvalue</th>\n",
       "    </tr>\n",
       "  </thead>\n",
       "  <tbody>\n",
       "    <tr>\n",
       "      <th>0</th>\n",
       "      <td>0#PCREFz#PCDCz#zSMCAUSlsa#zSMCAUSwn#PCCNCz#zWR...</td>\n",
       "      <td>2.933497</td>\n",
       "      <td>-2.077033</td>\n",
       "      <td>5.01053</td>\n",
       "      <td>6.331202</td>\n",
       "      <td>7.805555e-08</td>\n",
       "    </tr>\n",
       "  </tbody>\n",
       "</table>\n",
       "</div>"
      ],
      "text/plain": [
       "                                           vars_name  mean_gist_yes  \\\n",
       "0  0#PCREFz#PCDCz#zSMCAUSlsa#zSMCAUSwn#PCCNCz#zWR...       2.933497   \n",
       "\n",
       "   mean_gist_no  distance  ttest_statistic  ttest_pvalue  \n",
       "0     -2.077033   5.01053         6.331202  7.805555e-08  "
      ]
     },
     "execution_count": 7,
     "metadata": {},
     "output_type": "execute_result"
    }
   ],
   "source": [
    "prefix_names = dict()\n",
    "prefix_names['gist_yes'] = 'd'\n",
    "prefix_names['gist_no'] = 'm'\n",
    "results = Wolfe().run_benchmark('../data/wolfe_cohmetrix.csv', prefix_names, use_wolfe_vars=True, use_gispy_vars=False, plot=False)\n",
    "results.head(10)"
   ]
  },
  {
   "cell_type": "code",
   "execution_count": 6,
   "metadata": {},
   "outputs": [],
   "source": [
    "# final_results = results[:10].round({'mean_gist_yes': 3, 'mean_gist_no': 3, 'distance': 3, 'ttest_statistic': 3})\n",
    "# with pd.option_context(\"max_colwidth\", 1000):\n",
    "#     print(final_results.to_latex(index=False))"
   ]
  },
  {
   "cell_type": "markdown",
   "metadata": {},
   "source": [
    "## NCI Coh-Metrix Scored\n",
    "There are two types of text for each disease: 1) `Patient` version, and 2) `Health Professional (HP)` version. And for each type, there are different texts separately annotated for gist and verbatim (T1, T2, T3, etc.) Based on Chris Wolfe: \"the articles for Physicians (HP, I guess) tended to be more gist whereas the ones for patients tended to be more verbatim\"\n",
    "\n",
    "For now, since there are no detailed scores available for different texts, we don’t use the NCI-related texts for evaluating our tool.\n"
   ]
  },
  {
   "cell_type": "code",
   "execution_count": 9,
   "metadata": {},
   "outputs": [],
   "source": [
    "file_paths = ['../data/wolfe/NCI_CohMetrix_Scored_042918/NCI_Texts-Mitch.docx',\n",
    "              '../data/wolfe/NCI_CohMetrix_Scored_042918/NCI_Texts-Tatum.docx',\n",
    "              '../data/wolfe/NCI_CohMetrix_Scored_042918/NCI_Texts-Vasanthi.docx']"
   ]
  },
  {
   "cell_type": "code",
   "execution_count": 10,
   "metadata": {},
   "outputs": [],
   "source": [
    "df = pd.DataFrame(columns=['title', 'url', 'text'])\n",
    "\n",
    "for file_path in file_paths:\n",
    "    lines = read_word_text(file_path).split('\\n')\n",
    "    i = 4\n",
    "    title = lines[0]\n",
    "    url = lines[2]\n",
    "    current_text = []\n",
    "    while i < len(lines):\n",
    "        if lines[i].startswith('https'):\n",
    "            # saving the current article\n",
    "            df = df.append({'title': title, 'url': url, 'text': '\\n'.join(current_text)}, ignore_index=True)\n",
    "            title = lines[i-2]\n",
    "            url = lines[i]\n",
    "            current_text = []\n",
    "            i += 1\n",
    "        else:\n",
    "            current_text.append(lines[i])\n",
    "            i += 1"
   ]
  },
  {
   "cell_type": "code",
   "execution_count": 11,
   "metadata": {},
   "outputs": [
    {
     "data": {
      "text/html": [
       "<div>\n",
       "<style scoped>\n",
       "    .dataframe tbody tr th:only-of-type {\n",
       "        vertical-align: middle;\n",
       "    }\n",
       "\n",
       "    .dataframe tbody tr th {\n",
       "        vertical-align: top;\n",
       "    }\n",
       "\n",
       "    .dataframe thead th {\n",
       "        text-align: right;\n",
       "    }\n",
       "</style>\n",
       "<table border=\"1\" class=\"dataframe\">\n",
       "  <thead>\n",
       "    <tr style=\"text-align: right;\">\n",
       "      <th></th>\n",
       "      <th>title</th>\n",
       "      <th>url</th>\n",
       "      <th>text</th>\n",
       "    </tr>\n",
       "  </thead>\n",
       "  <tbody>\n",
       "    <tr>\n",
       "      <th>0</th>\n",
       "      <td>Leukemia/Patient Version</td>\n",
       "      <td>https://www.cancer.gov/types/leukemia</td>\n",
       "      <td>OVERVIEW\\n\\nLeukemia is cancer of the blood ce...</td>\n",
       "    </tr>\n",
       "    <tr>\n",
       "      <th>1</th>\n",
       "      <td>Leukemia/HP Version</td>\n",
       "      <td>https://www.cancer.gov/types/leukemia/hp</td>\n",
       "      <td>\\nT1\\n\\nGeneral Information About Adult Acute ...</td>\n",
       "    </tr>\n",
       "    <tr>\n",
       "      <th>2</th>\n",
       "      <td>Adrenocortical Carcinoma/Patient Version</td>\n",
       "      <td>https://www.cancer.gov/types/adrenocortical</td>\n",
       "      <td>\\nOVERVIEW\\n\\nAdrenocortical cancer is a rare ...</td>\n",
       "    </tr>\n",
       "  </tbody>\n",
       "</table>\n",
       "</div>"
      ],
      "text/plain": [
       "                                      title  \\\n",
       "0                 Leukemia/Patient Version    \n",
       "1                       Leukemia/HP Version   \n",
       "2  Adrenocortical Carcinoma/Patient Version   \n",
       "\n",
       "                                           url  \\\n",
       "0        https://www.cancer.gov/types/leukemia   \n",
       "1     https://www.cancer.gov/types/leukemia/hp   \n",
       "2  https://www.cancer.gov/types/adrenocortical   \n",
       "\n",
       "                                                text  \n",
       "0  OVERVIEW\\n\\nLeukemia is cancer of the blood ce...  \n",
       "1  \\nT1\\n\\nGeneral Information About Adult Acute ...  \n",
       "2  \\nOVERVIEW\\n\\nAdrenocortical cancer is a rare ...  "
      ]
     },
     "execution_count": 11,
     "metadata": {},
     "output_type": "execute_result"
    }
   ],
   "source": [
    "df.head(3)"
   ]
  },
  {
   "cell_type": "code",
   "execution_count": 12,
   "metadata": {},
   "outputs": [],
   "source": [
    "df.to_excel('nci_cohmetrix_scored.xlsx')"
   ]
  },
  {
   "cell_type": "code",
   "execution_count": 14,
   "metadata": {},
   "outputs": [],
   "source": [
    "import itertools\n",
    "verbs = [1, 2, 3, 4]\n",
    "a = itertools.combinations(verbs, r=2)"
   ]
  },
  {
   "cell_type": "code",
   "execution_count": 15,
   "metadata": {},
   "outputs": [
    {
     "name": "stdout",
     "output_type": "stream",
     "text": [
      "1 2\n",
      "1 3\n",
      "1 4\n",
      "2 3\n",
      "2 4\n",
      "3 4\n"
     ]
    }
   ],
   "source": [
    "for pair in a:\n",
    "    print(pair[0], pair[1])"
   ]
  }
 ],
 "metadata": {
  "kernelspec": {
   "display_name": "gispy-env",
   "language": "python",
   "name": "gispy-env"
  },
  "language_info": {
   "codemirror_mode": {
    "name": "ipython",
    "version": 3
   },
   "file_extension": ".py",
   "mimetype": "text/x-python",
   "name": "python",
   "nbconvert_exporter": "python",
   "pygments_lexer": "ipython3",
   "version": "3.7.12"
  }
 },
 "nbformat": 4,
 "nbformat_minor": 4
}
