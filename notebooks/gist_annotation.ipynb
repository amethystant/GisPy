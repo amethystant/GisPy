{
 "cells": [
  {
   "cell_type": "code",
   "execution_count": 2,
   "metadata": {},
   "outputs": [],
   "source": [
    "import os\n",
    "import sys\n",
    "\n",
    "# adding classes folder to system path\n",
    "sys.path.insert(0, os.path.abspath('..') + '/gispy')\n",
    "\n",
    "import time\n",
    "import statistics\n",
    "import pandas as pd\n",
    "\n",
    "from os import listdir\n",
    "from os.path import isfile, join\n",
    "\n",
    "from utils import get_wayback_url_content, get_wayback_urls"
   ]
  },
  {
   "cell_type": "code",
   "execution_count": 3,
   "metadata": {},
   "outputs": [],
   "source": [
    "# adding classes folder to system path\n",
    "sys.path.insert(0, os.path.abspath('..') + '/gispy')\n",
    "\n",
    "df = pd.read_csv('../data/gist_annotation.csv')\n",
    "\n",
    "df = df.loc[df['Answer.gist'].isin(['yes', 'no'])]\n",
    "\n",
    "docs_path = '../data/gist'\n",
    "txt_files = [f for f in listdir(docs_path) if isfile(join(docs_path, f)) and '.txt' in f]"
   ]
  },
  {
   "cell_type": "code",
   "execution_count": 4,
   "metadata": {},
   "outputs": [
    {
     "name": "stdout",
     "output_type": "stream",
     "text": [
      "yes: 147, no: 38\n"
     ]
    }
   ],
   "source": [
    "yes = 0\n",
    "no = 0\n",
    "for txt_file in txt_files:\n",
    "    if txt_file.endswith('_yes.txt'):\n",
    "        yes += 1\n",
    "    else:\n",
    "        no += 1\n",
    "print('yes: {}, no: {}'.format(yes, no))"
   ]
  },
  {
   "cell_type": "code",
   "execution_count": 3,
   "metadata": {},
   "outputs": [],
   "source": [
    "df_now = pd.read_excel('../data/gist.xlsx')\n",
    "a = df.loc[~df['Input.url'].isin(list(df_now['Input.url']))]\n",
    "sub_a = a[['Input.url', 'Answer.gist']]\n",
    "sub_a.to_excel('../data/gist_extra.xlsx')"
   ]
  },
  {
   "cell_type": "code",
   "execution_count": 3,
   "metadata": {},
   "outputs": [
    {
     "name": "stdout",
     "output_type": "stream",
     "text": [
      "0\n",
      "20\n",
      "40\n",
      "60\n",
      "80\n",
      "100\n",
      "120\n",
      "140\n",
      "160\n",
      "180\n",
      "200\n"
     ]
    }
   ],
   "source": [
    "wayback_urls = get_wayback_urls(list(df['Input.url']))"
   ]
  },
  {
   "cell_type": "code",
   "execution_count": 4,
   "metadata": {},
   "outputs": [],
   "source": [
    "wayback_urls_first = []\n",
    "wayback_urls_last = []\n",
    "\n",
    "for idx, row in df.iterrows():\n",
    "    if row['Input.url'] in wayback_urls:\n",
    "        value = wayback_urls[row['Input.url']]\n",
    "        if len(value) == 0:\n",
    "            wayback_urls_first.append('')\n",
    "            wayback_urls_last.append('')\n",
    "        if len(value) == 1:\n",
    "            wayback_urls_first.append(value[0])\n",
    "            wayback_urls_last.append(value[0])\n",
    "        elif len(value) > 1:\n",
    "            wayback_urls_first.append(value[0])\n",
    "            wayback_urls_last.append(value[-1])\n",
    "    else:\n",
    "        wayback_urls_first.append('')\n",
    "        wayback_urls_last.append('')"
   ]
  },
  {
   "cell_type": "code",
   "execution_count": 5,
   "metadata": {},
   "outputs": [
    {
     "data": {
      "text/plain": [
       "(214, 214, 214)"
      ]
     },
     "execution_count": 5,
     "metadata": {},
     "output_type": "execute_result"
    }
   ],
   "source": [
    "len(wayback_urls), len(wayback_urls_first), len(wayback_urls_last)"
   ]
  },
  {
   "cell_type": "code",
   "execution_count": 7,
   "metadata": {},
   "outputs": [],
   "source": [
    "# wayback_urls, all_content = get_wayback_url_content(list(df['Input.url']), sleep_time=1)\n",
    "# print('{}, {}, {}'.format(len(df), len(wayback_urls), len(all_content)))"
   ]
  },
  {
   "cell_type": "code",
   "execution_count": 6,
   "metadata": {},
   "outputs": [],
   "source": [
    "# adding new cols to dataframe\n",
    "df['wayback_url_first'] = wayback_urls_first\n",
    "df['wayback_url_last'] = wayback_urls_last\n",
    "\n",
    "# creating a subset of needed columns and filtering out rows with empty text\n",
    "sub_df = df[['Input.url', 'wayback_url_first', 'wayback_url_last', 'Answer.gist']]\n",
    "sub_df = sub_df.loc[~sub_df['wayback_url_first'].isin([''])]\n",
    "sub_df = sub_df.reset_index(drop=True)\n",
    "\n",
    "sub_df.to_excel('../data/gist.xlsx')"
   ]
  },
  {
   "cell_type": "markdown",
   "metadata": {},
   "source": [
    "### Creating new empty text files for each URL"
   ]
  },
  {
   "cell_type": "code",
   "execution_count": 6,
   "metadata": {},
   "outputs": [],
   "source": [
    "doc_folder = '../data/gist'\n",
    "for idx, row in sub_df.iterrows():\n",
    "    with open('{}/{}_{}.txt'.format(doc_folder, idx, row['Answer.gist']), 'w') as text_file:\n",
    "        text_file.write('')"
   ]
  },
  {
   "cell_type": "markdown",
   "metadata": {},
   "source": [
    "### Analyzing the results"
   ]
  },
  {
   "cell_type": "code",
   "execution_count": 2,
   "metadata": {},
   "outputs": [
    {
     "name": "stdout",
     "output_type": "stream",
     "text": [
      "avg 'gist=yes' score: -0.7386003404867852, stdev: 0.6099601563692668\n",
      "avg 'gist=no' score: -0.7155898134147554, stdev: 0.5371883697342696\n"
     ]
    }
   ],
   "source": [
    "df = pd.read_csv('../gispy/res.csv')\n",
    "score_type = 'gis'\n",
    "\n",
    "yes_scores = []\n",
    "no_scores = []\n",
    "\n",
    "for idx, row in df.iterrows():\n",
    "    if '_yes.txt' in row['d_id']:\n",
    "        yes_scores.append(row[score_type])\n",
    "    else:\n",
    "        no_scores.append(row[score_type])\n",
    "\n",
    "print('avg \\'gist=yes\\' score: {}, stdev: {}'.format(sum(yes_scores) / len(yes_scores), statistics.stdev(yes_scores)))\n",
    "print('avg \\'gist=no\\' score: {}, stdev: {}'.format(sum(no_scores) / len(no_scores), statistics.stdev(no_scores)))"
   ]
  },
  {
   "cell_type": "code",
   "execution_count": 3,
   "metadata": {},
   "outputs": [
    {
     "data": {
      "text/plain": [
       "(46, 15)"
      ]
     },
     "execution_count": 3,
     "metadata": {},
     "output_type": "execute_result"
    }
   ],
   "source": [
    "len(yes_scores), len(no_scores)"
   ]
  },
  {
   "cell_type": "markdown",
   "metadata": {},
   "source": [
    "### [Temporary] converting old indices to the new list of indices"
   ]
  },
  {
   "cell_type": "code",
   "execution_count": 8,
   "metadata": {},
   "outputs": [],
   "source": [
    "df_old = pd.read_excel('../data/gist_v1.xlsx')\n",
    "df_new = pd.read_excel('../data/gist.xlsx')\n",
    "\n",
    "for idx, row in df_new.iterrows():\n",
    "    a = df_old.loc[df_old['Input.url']==row['Input.url']]\n",
    "    if len(a) == 1:\n",
    "        # we found the very record\n",
    "        label = a.iloc[0]['Answer.gist']\n",
    "        with open('../data/text/{}_{}.txt'.format(a.index[0], label), 'r') as in_file:\n",
    "            text = in_file.read()\n",
    "            \n",
    "        b = df_new.loc[df_new['Input.url']==row['Input.url']]\n",
    "        if len(b) == 1:\n",
    "            label_2 = b.iloc[0]['Answer.gist']\n",
    "            if label == label_2:\n",
    "                with open('../data/gist/{}_{}.txt'.format(b.index[0], label_2), 'w') as out_file:\n",
    "                    out_file.write(text)"
   ]
  },
  {
   "cell_type": "markdown",
   "metadata": {},
   "source": [
    "### Double-checking labels"
   ]
  },
  {
   "cell_type": "code",
   "execution_count": 2,
   "metadata": {},
   "outputs": [],
   "source": [
    "df = pd.read_excel('../data/gist.xlsx')\n",
    "docs_path = '../data/gist'\n",
    "txt_files = [f for f in listdir(docs_path) if isfile(join(docs_path, f)) and '.txt' in f]\n",
    "\n",
    "id_label = {}\n",
    "for txt_file in txt_files:\n",
    "    file_id = txt_file.split('_')[0]\n",
    "    file_label = txt_file.split('_')[1].strip('.txt')\n",
    "    id_label[file_id] = file_label\n",
    "\n",
    "# if there's an incompatibility between file id and label, \"false\" will be printed\n",
    "for idx, row in df.iterrows():\n",
    "    if idx in id_label and id_label[idx] != row['Answer.gist']:\n",
    "        print('false')"
   ]
  },
  {
   "cell_type": "code",
   "execution_count": null,
   "metadata": {},
   "outputs": [],
   "source": []
  }
 ],
 "metadata": {
  "kernelspec": {
   "display_name": "gispy-env",
   "language": "python",
   "name": "gispy-env"
  },
  "language_info": {
   "codemirror_mode": {
    "name": "ipython",
    "version": 3
   },
   "file_extension": ".py",
   "mimetype": "text/x-python",
   "name": "python",
   "nbconvert_exporter": "python",
   "pygments_lexer": "ipython3",
   "version": "3.8.5"
  }
 },
 "nbformat": 4,
 "nbformat_minor": 4
}
