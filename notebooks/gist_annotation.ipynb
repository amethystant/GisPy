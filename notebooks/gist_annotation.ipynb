{
 "cells": [
  {
   "cell_type": "code",
   "execution_count": 1,
   "metadata": {},
   "outputs": [],
   "source": [
    "import os\n",
    "import sys\n",
    "import time\n",
    "import pandas as pd\n",
    "\n",
    "# adding classes folder to system path\n",
    "sys.path.insert(0, os.path.abspath('..') + '/gispy')\n",
    "\n",
    "from utils import get_wayback_url_content\n",
    "\n",
    "df = pd.read_csv('../data/gist_annotation.csv')\n",
    "\n",
    "df = df.loc[df['Answer.gist'].isin(['yes', 'no'])]"
   ]
  },
  {
   "cell_type": "code",
   "execution_count": 2,
   "metadata": {},
   "outputs": [
    {
     "name": "stdout",
     "output_type": "stream",
     "text": [
      "0\n",
      "40\n",
      "80\n",
      "100\n",
      "120\n",
      "140\n",
      "160\n",
      "180\n",
      "200\n"
     ]
    }
   ],
   "source": [
    "wayback_urls, all_content = get_wayback_url_content(list(df['Input.url']), sleep_time=1)"
   ]
  },
  {
   "cell_type": "code",
   "execution_count": 4,
   "metadata": {},
   "outputs": [
    {
     "data": {
      "text/plain": [
       "(214, 214, 214)"
      ]
     },
     "execution_count": 4,
     "metadata": {},
     "output_type": "execute_result"
    }
   ],
   "source": [
    "len(df), len(wayback_urls), len(all_content)"
   ]
  },
  {
   "cell_type": "code",
   "execution_count": 5,
   "metadata": {},
   "outputs": [],
   "source": [
    "# adding new cols to dataframe\n",
    "df['wayback_url'] = wayback_urls\n",
    "df['content'] = all_content\n",
    "\n",
    "# creating a subset of needed columns and filtering out rows with empty text\n",
    "sub_df = df[['Input.url', 'wayback_url', 'content', 'Answer.gist']]\n",
    "sub_df = sub_df.loc[~sub_df['wayback_url'].isin([''])]\n",
    "sub_df = sub_df.reset_index(drop=True)\n",
    "\n",
    "sub_df.to_excel('../data/gist.xlsx')"
   ]
  },
  {
   "cell_type": "markdown",
   "metadata": {},
   "source": [
    "### Creating new empty text files for each URL"
   ]
  },
  {
   "cell_type": "code",
   "execution_count": 6,
   "metadata": {},
   "outputs": [],
   "source": [
    "doc_folder = '../data/gist'\n",
    "for idx, row in sub_df.iterrows():\n",
    "    with open('{}/{}_{}.txt'.format(doc_folder, idx, row['Answer.gist']), 'w') as text_file:\n",
    "        text_file.write('')"
   ]
  },
  {
   "cell_type": "code",
   "execution_count": null,
   "metadata": {},
   "outputs": [],
   "source": []
  }
 ],
 "metadata": {
  "kernelspec": {
   "display_name": "gispy-env",
   "language": "python",
   "name": "gispy-env"
  },
  "language_info": {
   "codemirror_mode": {
    "name": "ipython",
    "version": 3
   },
   "file_extension": ".py",
   "mimetype": "text/x-python",
   "name": "python",
   "nbconvert_exporter": "python",
   "pygments_lexer": "ipython3",
   "version": "3.8.5"
  }
 },
 "nbformat": 4,
 "nbformat_minor": 4
}
