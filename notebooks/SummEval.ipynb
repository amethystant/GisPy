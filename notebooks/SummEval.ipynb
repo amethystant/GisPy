{
 "cells": [
  {
   "cell_type": "code",
   "execution_count": 15,
   "metadata": {},
   "outputs": [],
   "source": [
    "import json\n",
    "import pandas as pd\n",
    "\n",
    "with open('../data/model_annotations.aligned.jsonl', 'r') as input_file:\n",
    "    lines = input_file.readlines()\n",
    "\n",
    "df = pd.DataFrame(columns=[\"text\", \"coherence_expert\", \"coherence_turker\"])\n",
    "\n",
    "for line in lines:\n",
    "    line = json.loads(line)\n",
    "    \n",
    "    anns = line['expert_annotations']\n",
    "    anns_turker = line['turker_annotations']\n",
    "    \n",
    "    coherence_anns = [ann['coherence'] for ann in anns]\n",
    "    coherence_anns_turker = [ann['coherence'] for ann in anns_turker]\n",
    "    \n",
    "    coherence_score = sum(coherence_anns) / len(coherence_anns)\n",
    "    coherence_score_turker = sum(coherence_anns_turker) / len(coherence_anns_turker)\n",
    "    \n",
    "    df = df.append({\"text\": line['decoded'], 'coherence_expert': coherence_score, 'coherence_turker': coherence_score_turker}, ignore_index=True)"
   ]
  },
  {
   "cell_type": "code",
   "execution_count": 17,
   "metadata": {},
   "outputs": [
    {
     "data": {
      "text/html": [
       "<div>\n",
       "<style scoped>\n",
       "    .dataframe tbody tr th:only-of-type {\n",
       "        vertical-align: middle;\n",
       "    }\n",
       "\n",
       "    .dataframe tbody tr th {\n",
       "        vertical-align: top;\n",
       "    }\n",
       "\n",
       "    .dataframe thead th {\n",
       "        text-align: right;\n",
       "    }\n",
       "</style>\n",
       "<table border=\"1\" class=\"dataframe\">\n",
       "  <thead>\n",
       "    <tr style=\"text-align: right;\">\n",
       "      <th></th>\n",
       "      <th>text</th>\n",
       "      <th>coherence_expert</th>\n",
       "      <th>coherence_turker</th>\n",
       "    </tr>\n",
       "  </thead>\n",
       "  <tbody>\n",
       "    <tr>\n",
       "      <th>0</th>\n",
       "      <td>paul merson was brought on with only seven min...</td>\n",
       "      <td>1.333333</td>\n",
       "      <td>3.0</td>\n",
       "    </tr>\n",
       "    <tr>\n",
       "      <th>1</th>\n",
       "      <td>paul merson has restarted his row with andros ...</td>\n",
       "      <td>2.333333</td>\n",
       "      <td>2.0</td>\n",
       "    </tr>\n",
       "    <tr>\n",
       "      <th>2</th>\n",
       "      <td>paul merson has restarted his row with andros ...</td>\n",
       "      <td>2.333333</td>\n",
       "      <td>3.8</td>\n",
       "    </tr>\n",
       "    <tr>\n",
       "      <th>3</th>\n",
       "      <td>paul merson has restarted his row with andros ...</td>\n",
       "      <td>1.666667</td>\n",
       "      <td>5.0</td>\n",
       "    </tr>\n",
       "    <tr>\n",
       "      <th>4</th>\n",
       "      <td>paul merson has restarted his row with andros ...</td>\n",
       "      <td>3.333333</td>\n",
       "      <td>2.0</td>\n",
       "    </tr>\n",
       "  </tbody>\n",
       "</table>\n",
       "</div>"
      ],
      "text/plain": [
       "                                                text  coherence_expert  \\\n",
       "0  paul merson was brought on with only seven min...          1.333333   \n",
       "1  paul merson has restarted his row with andros ...          2.333333   \n",
       "2  paul merson has restarted his row with andros ...          2.333333   \n",
       "3  paul merson has restarted his row with andros ...          1.666667   \n",
       "4  paul merson has restarted his row with andros ...          3.333333   \n",
       "\n",
       "   coherence_turker  \n",
       "0               3.0  \n",
       "1               2.0  \n",
       "2               3.8  \n",
       "3               5.0  \n",
       "4               2.0  "
      ]
     },
     "execution_count": 17,
     "metadata": {},
     "output_type": "execute_result"
    }
   ],
   "source": [
    "df.head(5)"
   ]
  },
  {
   "cell_type": "code",
   "execution_count": null,
   "metadata": {},
   "outputs": [],
   "source": []
  }
 ],
 "metadata": {
  "kernelspec": {
   "display_name": "gispy-env",
   "language": "python",
   "name": "gispy-env"
  },
  "language_info": {
   "codemirror_mode": {
    "name": "ipython",
    "version": 3
   },
   "file_extension": ".py",
   "mimetype": "text/x-python",
   "name": "python",
   "nbconvert_exporter": "python",
   "pygments_lexer": "ipython3",
   "version": "3.8.5"
  }
 },
 "nbformat": 4,
 "nbformat_minor": 4
}
