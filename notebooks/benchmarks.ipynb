{
 "cells": [
  {
   "cell_type": "code",
   "execution_count": 1,
   "metadata": {},
   "outputs": [],
   "source": [
    "import os\n",
    "import sys\n",
    "\n",
    "sys.path.insert(0, os.path.abspath('..') + '/gispy')\n",
    "\n",
    "from benchmarks import Wolfe"
   ]
  },
  {
   "cell_type": "markdown",
   "metadata": {},
   "source": [
    "## Wolfe's Reports vs. Editorials"
   ]
  },
  {
   "cell_type": "code",
   "execution_count": 2,
   "metadata": {},
   "outputs": [
    {
     "name": "stdout",
     "output_type": "stream",
     "text": [
      "50\n"
     ]
    }
   ],
   "source": [
    "folder_path = '../data/wolfe/Report_vs_Opinion/Report_Opinion.docx'\n",
    "df = Wolfe().convert_reports_editorials_data(folder_path, create_text_file=False)\n",
    "df.to_csv('../data/wolfe_reports_editorials.csv')\n",
    "print(len(df))"
   ]
  },
  {
   "cell_type": "code",
   "execution_count": 3,
   "metadata": {},
   "outputs": [
    {
     "data": {
      "text/html": [
       "<div>\n",
       "<style scoped>\n",
       "    .dataframe tbody tr th:only-of-type {\n",
       "        vertical-align: middle;\n",
       "    }\n",
       "\n",
       "    .dataframe tbody tr th {\n",
       "        vertical-align: top;\n",
       "    }\n",
       "\n",
       "    .dataframe thead th {\n",
       "        text-align: right;\n",
       "    }\n",
       "</style>\n",
       "<table border=\"1\" class=\"dataframe\">\n",
       "  <thead>\n",
       "    <tr style=\"text-align: right;\">\n",
       "      <th></th>\n",
       "      <th>title</th>\n",
       "      <th>type</th>\n",
       "      <th>url</th>\n",
       "      <th>text</th>\n",
       "    </tr>\n",
       "  </thead>\n",
       "  <tbody>\n",
       "    <tr>\n",
       "      <th>0</th>\n",
       "      <td>Report-Hawking</td>\n",
       "      <td>report</td>\n",
       "      <td>https://www.usatoday.com/story/news/2018/03/14...</td>\n",
       "      <td>Stephen Hawking, one of the world's foremost t...</td>\n",
       "    </tr>\n",
       "    <tr>\n",
       "      <th>1</th>\n",
       "      <td>Opinion-Hawking</td>\n",
       "      <td>opinion</td>\n",
       "      <td>https://www.usatoday.com/story/news/2018/03/14...</td>\n",
       "      <td>Stephen Hawking, one of the greatest scientist...</td>\n",
       "    </tr>\n",
       "    <tr>\n",
       "      <th>2</th>\n",
       "      <td>Report-Gun control</td>\n",
       "      <td>report</td>\n",
       "      <td>https://www.usatoday.com/story/news/politics/2...</td>\n",
       "      <td>WASHINGTON — As students across the country pr...</td>\n",
       "    </tr>\n",
       "    <tr>\n",
       "      <th>3</th>\n",
       "      <td>Opinion-Gun control</td>\n",
       "      <td>opinion</td>\n",
       "      <td>https://www.usatoday.com/story/opinion/2018/03...</td>\n",
       "      <td>We’ve heard passionate pleas in recent weeks f...</td>\n",
       "    </tr>\n",
       "    <tr>\n",
       "      <th>4</th>\n",
       "      <td>Report-Haspel CIA</td>\n",
       "      <td>report</td>\n",
       "      <td>https://www.usatoday.com/story/news/2018/03/13...</td>\n",
       "      <td>Gina Haspel, President Trump’s nominee to beco...</td>\n",
       "    </tr>\n",
       "  </tbody>\n",
       "</table>\n",
       "</div>"
      ],
      "text/plain": [
       "                 title     type  \\\n",
       "0       Report-Hawking   report   \n",
       "1      Opinion-Hawking  opinion   \n",
       "2   Report-Gun control   report   \n",
       "3  Opinion-Gun control  opinion   \n",
       "4    Report-Haspel CIA   report   \n",
       "\n",
       "                                                 url  \\\n",
       "0  https://www.usatoday.com/story/news/2018/03/14...   \n",
       "1  https://www.usatoday.com/story/news/2018/03/14...   \n",
       "2  https://www.usatoday.com/story/news/politics/2...   \n",
       "3  https://www.usatoday.com/story/opinion/2018/03...   \n",
       "4  https://www.usatoday.com/story/news/2018/03/13...   \n",
       "\n",
       "                                                text  \n",
       "0  Stephen Hawking, one of the world's foremost t...  \n",
       "1  Stephen Hawking, one of the greatest scientist...  \n",
       "2  WASHINGTON — As students across the country pr...  \n",
       "3  We’ve heard passionate pleas in recent weeks f...  \n",
       "4  Gina Haspel, President Trump’s nominee to beco...  "
      ]
     },
     "execution_count": 3,
     "metadata": {},
     "output_type": "execute_result"
    }
   ],
   "source": [
    "df.head(5)"
   ]
  },
  {
   "cell_type": "markdown",
   "metadata": {},
   "source": [
    "## Wolfe's Methods vs. Discussion"
   ]
  },
  {
   "cell_type": "code",
   "execution_count": 4,
   "metadata": {},
   "outputs": [
    {
     "name": "stdout",
     "output_type": "stream",
     "text": [
      "25\n"
     ]
    }
   ],
   "source": [
    "folder_path = '../data/wolfe/Methods_vs_Discussion/Methods_Discussion.docx'\n",
    "df = Wolfe().convert_methods_discussion_data(folder_path, create_text_file=False)\n",
    "df.to_csv('../data/wolfe_methods_discussion.csv')\n",
    "print(len(df))"
   ]
  },
  {
   "cell_type": "code",
   "execution_count": 5,
   "metadata": {},
   "outputs": [
    {
     "data": {
      "text/html": [
       "<div>\n",
       "<style scoped>\n",
       "    .dataframe tbody tr th:only-of-type {\n",
       "        vertical-align: middle;\n",
       "    }\n",
       "\n",
       "    .dataframe tbody tr th {\n",
       "        vertical-align: top;\n",
       "    }\n",
       "\n",
       "    .dataframe thead th {\n",
       "        text-align: right;\n",
       "    }\n",
       "</style>\n",
       "<table border=\"1\" class=\"dataframe\">\n",
       "  <thead>\n",
       "    <tr style=\"text-align: right;\">\n",
       "      <th></th>\n",
       "      <th>title</th>\n",
       "      <th>methods</th>\n",
       "      <th>discussion</th>\n",
       "    </tr>\n",
       "  </thead>\n",
       "  <tbody>\n",
       "    <tr>\n",
       "      <th>0</th>\n",
       "      <td>Common Modality Effects in Immediate Free Reca...</td>\n",
       "      <td>Forty participants from the University of Esse...</td>\n",
       "      <td>A third feature of our data that may constrain...</td>\n",
       "    </tr>\n",
       "    <tr>\n",
       "      <th>1</th>\n",
       "      <td>Retuning of Lexical-Semantic Representations  ...</td>\n",
       "      <td>Thirty-three native British English speakers p...</td>\n",
       "      <td>Finally, in contrast to these two views, which...</td>\n",
       "    </tr>\n",
       "    <tr>\n",
       "      <th>2</th>\n",
       "      <td>Threat of Shock and Aversive Inhibition  Induc...</td>\n",
       "      <td>Sixty-two healthy participants (39 females; ag...</td>\n",
       "      <td>As a potential caveat, it should be noted that...</td>\n",
       "    </tr>\n",
       "    <tr>\n",
       "      <th>3</th>\n",
       "      <td>Exploring the understanding and application of...</td>\n",
       "      <td>This study applied qualitative methods to capt...</td>\n",
       "      <td>Participants in the current study outlined a r...</td>\n",
       "    </tr>\n",
       "    <tr>\n",
       "      <th>4</th>\n",
       "      <td>Reprioritizing life  A conceptual model of how...</td>\n",
       "      <td>Grounded theory methodology aims to explain a ...</td>\n",
       "      <td>In line with what was described in our study r...</td>\n",
       "    </tr>\n",
       "  </tbody>\n",
       "</table>\n",
       "</div>"
      ],
      "text/plain": [
       "                                               title  \\\n",
       "0  Common Modality Effects in Immediate Free Reca...   \n",
       "1  Retuning of Lexical-Semantic Representations  ...   \n",
       "2  Threat of Shock and Aversive Inhibition  Induc...   \n",
       "3  Exploring the understanding and application of...   \n",
       "4  Reprioritizing life  A conceptual model of how...   \n",
       "\n",
       "                                             methods  \\\n",
       "0  Forty participants from the University of Esse...   \n",
       "1  Thirty-three native British English speakers p...   \n",
       "2  Sixty-two healthy participants (39 females; ag...   \n",
       "3  This study applied qualitative methods to capt...   \n",
       "4  Grounded theory methodology aims to explain a ...   \n",
       "\n",
       "                                          discussion  \n",
       "0  A third feature of our data that may constrain...  \n",
       "1  Finally, in contrast to these two views, which...  \n",
       "2  As a potential caveat, it should be noted that...  \n",
       "3  Participants in the current study outlined a r...  \n",
       "4  In line with what was described in our study r...  "
      ]
     },
     "execution_count": 5,
     "metadata": {},
     "output_type": "execute_result"
    }
   ],
   "source": [
    "df.head(5)"
   ]
  },
  {
   "cell_type": "code",
   "execution_count": null,
   "metadata": {},
   "outputs": [],
   "source": []
  }
 ],
 "metadata": {
  "kernelspec": {
   "display_name": "gispy-env",
   "language": "python",
   "name": "gispy-env"
  },
  "language_info": {
   "codemirror_mode": {
    "name": "ipython",
    "version": 3
   },
   "file_extension": ".py",
   "mimetype": "text/x-python",
   "name": "python",
   "nbconvert_exporter": "python",
   "pygments_lexer": "ipython3",
   "version": "3.7.12"
  }
 },
 "nbformat": 4,
 "nbformat_minor": 4
}
