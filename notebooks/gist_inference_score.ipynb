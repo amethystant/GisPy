{
 "cells": [
  {
   "cell_type": "code",
   "execution_count": 1,
   "metadata": {},
   "outputs": [],
   "source": [
    "import os\n",
    "import sys\n",
    "\n",
    "# adding classes folder to system path\n",
    "sys.path.insert(0, os.path.abspath('..') + '/gispy')\n",
    "\n",
    "import pandas as pd\n",
    "from scipy.stats import zscore\n",
    "from gist import GIS, GIST"
   ]
  },
  {
   "cell_type": "code",
   "execution_count": 2,
   "metadata": {},
   "outputs": [
    {
     "name": "stdout",
     "output_type": "stream",
     "text": [
      "loading parameters and models...\n",
      "reading input text files...\n",
      "------------------------------\n",
      "number of documents: 50\n",
      "document batch size: 10\n",
      "document(s) in each batch: 5\n",
      "------------------------------\n",
      "processing batch #1\n",
      "processing batch #2\n",
      "processing batch #3\n",
      "processing batch #4\n",
      "processing batch #5\n",
      "processing batch #6\n",
      "processing batch #7\n",
      "processing batch #8\n",
      "processing batch #9\n",
      "processing batch #10\n",
      "normalizing values of indices...\n",
      "computing the final GIS...\n",
      "computing GIS for all documents is done. results are saved at /results.csv\n"
     ]
    }
   ],
   "source": [
    "df = GIST(docs_path='../data/documents', config_path='../gispy/gist_config.json').compute_scores()"
   ]
  },
  {
   "cell_type": "code",
   "execution_count": 5,
   "metadata": {},
   "outputs": [],
   "source": [
    "df = pd.read_csv('results.csv')"
   ]
  },
  {
   "cell_type": "code",
   "execution_count": 6,
   "metadata": {},
   "outputs": [
    {
     "data": {
      "text/html": [
       "<div>\n",
       "<style scoped>\n",
       "    .dataframe tbody tr th:only-of-type {\n",
       "        vertical-align: middle;\n",
       "    }\n",
       "\n",
       "    .dataframe tbody tr th {\n",
       "        vertical-align: top;\n",
       "    }\n",
       "\n",
       "    .dataframe thead th {\n",
       "        text-align: right;\n",
       "    }\n",
       "</style>\n",
       "<table border=\"1\" class=\"dataframe\">\n",
       "  <thead>\n",
       "    <tr style=\"text-align: right;\">\n",
       "      <th></th>\n",
       "      <th>Unnamed: 0</th>\n",
       "      <th>d_id</th>\n",
       "      <th>text</th>\n",
       "      <th>gis</th>\n",
       "      <th>gis_zscore</th>\n",
       "    </tr>\n",
       "  </thead>\n",
       "  <tbody>\n",
       "    <tr>\n",
       "      <th>0</th>\n",
       "      <td>0</td>\n",
       "      <td>m_15.txt</td>\n",
       "      <td>The purpose of the current study was to unders...</td>\n",
       "      <td>-1.245031</td>\n",
       "      <td>-2.870977</td>\n",
       "    </tr>\n",
       "    <tr>\n",
       "      <th>1</th>\n",
       "      <td>1</td>\n",
       "      <td>d_19.txt</td>\n",
       "      <td>Early reports have shown a relationship betwee...</td>\n",
       "      <td>-0.951089</td>\n",
       "      <td>-1.706171</td>\n",
       "    </tr>\n",
       "    <tr>\n",
       "      <th>2</th>\n",
       "      <td>2</td>\n",
       "      <td>d_0.txt</td>\n",
       "      <td>A third feature of our data that may constrain...</td>\n",
       "      <td>-0.572020</td>\n",
       "      <td>0.411909</td>\n",
       "    </tr>\n",
       "  </tbody>\n",
       "</table>\n",
       "</div>"
      ],
      "text/plain": [
       "   Unnamed: 0      d_id                                               text  \\\n",
       "0           0  m_15.txt  The purpose of the current study was to unders...   \n",
       "1           1  d_19.txt  Early reports have shown a relationship betwee...   \n",
       "2           2   d_0.txt  A third feature of our data that may constrain...   \n",
       "\n",
       "        gis  gis_zscore  \n",
       "0 -1.245031   -2.870977  \n",
       "1 -0.951089   -1.706171  \n",
       "2 -0.572020    0.411909  "
      ]
     },
     "execution_count": 6,
     "metadata": {},
     "output_type": "execute_result"
    }
   ],
   "source": [
    "df.head(3)"
   ]
  },
  {
   "cell_type": "code",
   "execution_count": 7,
   "metadata": {},
   "outputs": [
    {
     "name": "stdout",
     "output_type": "stream",
     "text": [
      "avg Discussion score: -0.5528727796894336\n",
      "avg Methods score: -0.6167237579259587\n"
     ]
    }
   ],
   "source": [
    "# comparing the GIS of Discussion vs. Methods sections of a collection of documents\n",
    "# Discussion sections are supposed to be more gispty and have a higher GIS value.\n",
    "\n",
    "d_scores = []\n",
    "m_scores = []\n",
    "\n",
    "for idx, row in df.iterrows():\n",
    "    if 'd_' in row['d_id']:\n",
    "        d_scores.append(row['gis'])\n",
    "    else:\n",
    "        m_scores.append(row['gis'])\n",
    "\n",
    "print('avg Discussion score: {}'.format(sum(d_scores) / len(d_scores)))\n",
    "print('avg Methods score: {}'.format(sum(m_scores) / len(m_scores)))"
   ]
  },
  {
   "cell_type": "code",
   "execution_count": 4,
   "metadata": {},
   "outputs": [
    {
     "name": "stdout",
     "output_type": "stream",
     "text": [
      "avg Discussion score: 0.9173776526499102\n",
      "avg Methods score: -0.9173776526499157\n"
     ]
    }
   ],
   "source": [
    "d_scores = []\n",
    "m_scores = []\n",
    "\n",
    "for idx, row in df.iterrows():\n",
    "    if 'd_' in row['d_id']:\n",
    "        d_scores.append(row['gis_zscore'])\n",
    "    else:\n",
    "        m_scores.append(row['gis_zscore'])\n",
    "\n",
    "print('avg Discussion score: {}'.format(sum(d_scores) / len(d_scores)))\n",
    "print('avg Methods score: {}'.format(sum(m_scores) / len(m_scores)))"
   ]
  },
  {
   "cell_type": "code",
   "execution_count": 5,
   "metadata": {},
   "outputs": [
    {
     "data": {
      "text/plain": [
       "[2.481513262979047,\n",
       " 4.045891841853867,\n",
       " 4.084544637824087,\n",
       " 2.5325762776914225,\n",
       " -3.8993600301014633,\n",
       " -1.8116966538787387,\n",
       " 2.3924491203188065,\n",
       " 1.9895099760060586,\n",
       " 4.553517527041633,\n",
       " 4.3103540331593155,\n",
       " -1.5235501274704293,\n",
       " 0.40492380802422745,\n",
       " -2.5700330390352755,\n",
       " 4.2204796609477215,\n",
       " -2.7216773055791172,\n",
       " 0.3749046173597872,\n",
       " -2.9547439779045535,\n",
       " 4.175170218331477,\n",
       " 1.1317371918190169,\n",
       " -2.3338092563758384,\n",
       " -1.0720484696696242,\n",
       " 2.910735633892791,\n",
       " 4.5687102067871415,\n",
       " -4.690485584248583,\n",
       " 2.3348277464749847]"
      ]
     },
     "execution_count": 5,
     "metadata": {},
     "output_type": "execute_result"
    }
   ],
   "source": [
    "d_scores"
   ]
  },
  {
   "cell_type": "code",
   "execution_count": 6,
   "metadata": {},
   "outputs": [
    {
     "data": {
      "text/plain": [
       "[-4.1653659697933065,\n",
       " -4.487997847419378,\n",
       " 6.810410202145173,\n",
       " 0.6472453038310696,\n",
       " 4.741292829842804,\n",
       " 5.693929204925222,\n",
       " -6.40391523398347,\n",
       " -3.0440334569281937,\n",
       " -0.3906367277858034,\n",
       " -0.6469670153861461,\n",
       " -0.9793255659549243,\n",
       " -0.5609932768849368,\n",
       " -6.806474250578566,\n",
       " -1.6381566615506884,\n",
       " -2.4952855107105236,\n",
       " -1.7898208250165994,\n",
       " 1.7467713815999613,\n",
       " -4.8657395094238725,\n",
       " 0.21641606075087405,\n",
       " 0.5862738665280044,\n",
       " 2.8710377003823613,\n",
       " -3.166934448543712,\n",
       " 2.7556083428859903,\n",
       " -3.991949070210797,\n",
       " -3.5698308389684286]"
      ]
     },
     "execution_count": 6,
     "metadata": {},
     "output_type": "execute_result"
    }
   ],
   "source": [
    "m_scores"
   ]
  },
  {
   "cell_type": "markdown",
   "metadata": {},
   "source": [
    "### Computing GIS using pre-computed Coh-Metrix indexes"
   ]
  },
  {
   "cell_type": "code",
   "execution_count": 4,
   "metadata": {},
   "outputs": [],
   "source": [
    "df = pd.read_csv(\"../data/mturk_all.csv\")"
   ]
  },
  {
   "cell_type": "code",
   "execution_count": 5,
   "metadata": {},
   "outputs": [],
   "source": [
    "a = GIS().score(df, wolfe=True)"
   ]
  },
  {
   "cell_type": "code",
   "execution_count": 6,
   "metadata": {},
   "outputs": [
    {
     "data": {
      "text/html": [
       "<div>\n",
       "<style scoped>\n",
       "    .dataframe tbody tr th:only-of-type {\n",
       "        vertical-align: middle;\n",
       "    }\n",
       "\n",
       "    .dataframe tbody tr th {\n",
       "        vertical-align: top;\n",
       "    }\n",
       "\n",
       "    .dataframe thead th {\n",
       "        text-align: right;\n",
       "    }\n",
       "</style>\n",
       "<table border=\"1\" class=\"dataframe\">\n",
       "  <thead>\n",
       "    <tr style=\"text-align: right;\">\n",
       "      <th></th>\n",
       "      <th>TextID</th>\n",
       "      <th>DESPC</th>\n",
       "      <th>DESSC</th>\n",
       "      <th>DESWC</th>\n",
       "      <th>DESPL</th>\n",
       "      <th>DESPLd</th>\n",
       "      <th>DESSL</th>\n",
       "      <th>DESSLd</th>\n",
       "      <th>DESWLsy</th>\n",
       "      <th>DESWLsyd</th>\n",
       "      <th>...</th>\n",
       "      <th>WRDHYPv</th>\n",
       "      <th>WRDHYPnv</th>\n",
       "      <th>RDFRE</th>\n",
       "      <th>RDFKGL</th>\n",
       "      <th>RDL2</th>\n",
       "      <th>zSMCAUSlsa</th>\n",
       "      <th>zSMCAUSwn</th>\n",
       "      <th>zWRDIMGc</th>\n",
       "      <th>zWRDHYPnv</th>\n",
       "      <th>GIS</th>\n",
       "    </tr>\n",
       "  </thead>\n",
       "  <tbody>\n",
       "    <tr>\n",
       "      <th>0</th>\n",
       "      <td>C:\\gwu\\cohmetrix\\CohMetrix2021\\coh_input_2\\301...</td>\n",
       "      <td>8</td>\n",
       "      <td>14</td>\n",
       "      <td>355</td>\n",
       "      <td>1.750</td>\n",
       "      <td>1.389</td>\n",
       "      <td>25.500000</td>\n",
       "      <td>14.325</td>\n",
       "      <td>1.614</td>\n",
       "      <td>0.924</td>\n",
       "      <td>...</td>\n",
       "      <td>1.842</td>\n",
       "      <td>2.275</td>\n",
       "      <td>44.553001</td>\n",
       "      <td>13.344</td>\n",
       "      <td>6.526000</td>\n",
       "      <td>-0.975</td>\n",
       "      <td>-0.229166</td>\n",
       "      <td>1.242778</td>\n",
       "      <td>1.661539</td>\n",
       "      <td>-4.252150</td>\n",
       "    </tr>\n",
       "    <tr>\n",
       "      <th>1</th>\n",
       "      <td>C:\\gwu\\cohmetrix\\CohMetrix2021\\coh_input_2\\301...</td>\n",
       "      <td>11</td>\n",
       "      <td>25</td>\n",
       "      <td>425</td>\n",
       "      <td>2.273</td>\n",
       "      <td>1.191</td>\n",
       "      <td>17.240000</td>\n",
       "      <td>10.978</td>\n",
       "      <td>1.532</td>\n",
       "      <td>0.827</td>\n",
       "      <td>...</td>\n",
       "      <td>1.693</td>\n",
       "      <td>2.405</td>\n",
       "      <td>59.973000</td>\n",
       "      <td>9.118</td>\n",
       "      <td>12.206000</td>\n",
       "      <td>-0.675</td>\n",
       "      <td>0.812500</td>\n",
       "      <td>0.817916</td>\n",
       "      <td>2.161538</td>\n",
       "      <td>-6.053954</td>\n",
       "    </tr>\n",
       "    <tr>\n",
       "      <th>2</th>\n",
       "      <td>C:\\gwu\\cohmetrix\\CohMetrix2021\\coh_input_2\\301...</td>\n",
       "      <td>4</td>\n",
       "      <td>17</td>\n",
       "      <td>313</td>\n",
       "      <td>4.250</td>\n",
       "      <td>2.630</td>\n",
       "      <td>18.471001</td>\n",
       "      <td>9.677</td>\n",
       "      <td>1.431</td>\n",
       "      <td>0.826</td>\n",
       "      <td>...</td>\n",
       "      <td>1.817</td>\n",
       "      <td>1.643</td>\n",
       "      <td>67.084000</td>\n",
       "      <td>8.476</td>\n",
       "      <td>21.061001</td>\n",
       "      <td>-0.150</td>\n",
       "      <td>-0.208333</td>\n",
       "      <td>-1.270545</td>\n",
       "      <td>-0.769231</td>\n",
       "      <td>4.363109</td>\n",
       "    </tr>\n",
       "    <tr>\n",
       "      <th>3</th>\n",
       "      <td>C:\\gwu\\cohmetrix\\CohMetrix2021\\coh_input_2\\301...</td>\n",
       "      <td>18</td>\n",
       "      <td>26</td>\n",
       "      <td>744</td>\n",
       "      <td>1.444</td>\n",
       "      <td>0.616</td>\n",
       "      <td>29.000000</td>\n",
       "      <td>11.631</td>\n",
       "      <td>1.777</td>\n",
       "      <td>1.030</td>\n",
       "      <td>...</td>\n",
       "      <td>1.643</td>\n",
       "      <td>2.383</td>\n",
       "      <td>27.457001</td>\n",
       "      <td>16.538</td>\n",
       "      <td>8.316000</td>\n",
       "      <td>-1.375</td>\n",
       "      <td>-0.604167</td>\n",
       "      <td>0.801352</td>\n",
       "      <td>2.076923</td>\n",
       "      <td>-5.268108</td>\n",
       "    </tr>\n",
       "    <tr>\n",
       "      <th>4</th>\n",
       "      <td>C:\\gwu\\cohmetrix\\CohMetrix2021\\coh_input_2\\301...</td>\n",
       "      <td>5</td>\n",
       "      <td>16</td>\n",
       "      <td>272</td>\n",
       "      <td>3.200</td>\n",
       "      <td>1.789</td>\n",
       "      <td>17.250000</td>\n",
       "      <td>9.936</td>\n",
       "      <td>1.346</td>\n",
       "      <td>0.702</td>\n",
       "      <td>...</td>\n",
       "      <td>1.467</td>\n",
       "      <td>1.603</td>\n",
       "      <td>75.708000</td>\n",
       "      <td>6.923</td>\n",
       "      <td>20.931000</td>\n",
       "      <td>-1.450</td>\n",
       "      <td>0.156250</td>\n",
       "      <td>-0.696967</td>\n",
       "      <td>-0.923077</td>\n",
       "      <td>1.551794</td>\n",
       "    </tr>\n",
       "  </tbody>\n",
       "</table>\n",
       "<p>5 rows × 114 columns</p>\n",
       "</div>"
      ],
      "text/plain": [
       "                                              TextID  DESPC  DESSC  DESWC  \\\n",
       "0  C:\\gwu\\cohmetrix\\CohMetrix2021\\coh_input_2\\301...      8     14    355   \n",
       "1  C:\\gwu\\cohmetrix\\CohMetrix2021\\coh_input_2\\301...     11     25    425   \n",
       "2  C:\\gwu\\cohmetrix\\CohMetrix2021\\coh_input_2\\301...      4     17    313   \n",
       "3  C:\\gwu\\cohmetrix\\CohMetrix2021\\coh_input_2\\301...     18     26    744   \n",
       "4  C:\\gwu\\cohmetrix\\CohMetrix2021\\coh_input_2\\301...      5     16    272   \n",
       "\n",
       "   DESPL  DESPLd      DESSL  DESSLd  DESWLsy  DESWLsyd  ...  WRDHYPv  \\\n",
       "0  1.750   1.389  25.500000  14.325    1.614     0.924  ...    1.842   \n",
       "1  2.273   1.191  17.240000  10.978    1.532     0.827  ...    1.693   \n",
       "2  4.250   2.630  18.471001   9.677    1.431     0.826  ...    1.817   \n",
       "3  1.444   0.616  29.000000  11.631    1.777     1.030  ...    1.643   \n",
       "4  3.200   1.789  17.250000   9.936    1.346     0.702  ...    1.467   \n",
       "\n",
       "   WRDHYPnv      RDFRE  RDFKGL       RDL2  zSMCAUSlsa  zSMCAUSwn  zWRDIMGc  \\\n",
       "0     2.275  44.553001  13.344   6.526000      -0.975  -0.229166  1.242778   \n",
       "1     2.405  59.973000   9.118  12.206000      -0.675   0.812500  0.817916   \n",
       "2     1.643  67.084000   8.476  21.061001      -0.150  -0.208333 -1.270545   \n",
       "3     2.383  27.457001  16.538   8.316000      -1.375  -0.604167  0.801352   \n",
       "4     1.603  75.708000   6.923  20.931000      -1.450   0.156250 -0.696967   \n",
       "\n",
       "   zWRDHYPnv       GIS  \n",
       "0   1.661539 -4.252150  \n",
       "1   2.161538 -6.053954  \n",
       "2  -0.769231  4.363109  \n",
       "3   2.076923 -5.268108  \n",
       "4  -0.923077  1.551794  \n",
       "\n",
       "[5 rows x 114 columns]"
      ]
     },
     "execution_count": 6,
     "metadata": {},
     "output_type": "execute_result"
    }
   ],
   "source": [
    "a.head(5)"
   ]
  },
  {
   "cell_type": "code",
   "execution_count": 5,
   "metadata": {},
   "outputs": [],
   "source": [
    "a.to_csv('mturk_all.csv')"
   ]
  },
  {
   "cell_type": "code",
   "execution_count": null,
   "metadata": {},
   "outputs": [],
   "source": []
  }
 ],
 "metadata": {
  "kernelspec": {
   "display_name": "gispy-env",
   "language": "python",
   "name": "gispy-env"
  },
  "language_info": {
   "codemirror_mode": {
    "name": "ipython",
    "version": 3
   },
   "file_extension": ".py",
   "mimetype": "text/x-python",
   "name": "python",
   "nbconvert_exporter": "python",
   "pygments_lexer": "ipython3",
   "version": "3.8.5"
  }
 },
 "nbformat": 4,
 "nbformat_minor": 4
}
