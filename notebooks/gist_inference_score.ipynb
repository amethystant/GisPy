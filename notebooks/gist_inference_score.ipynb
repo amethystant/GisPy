{
 "cells": [
  {
   "cell_type": "code",
   "execution_count": 1,
   "metadata": {},
   "outputs": [],
   "source": [
    "import os\n",
    "import sys\n",
    "\n",
    "# adding classes folder to system path\n",
    "sys.path.insert(0, os.path.abspath('..') + '/gispy')\n",
    "\n",
    "import pandas as pd\n",
    "from scipy.stats import zscore\n",
    "from gist import GIS, GIST"
   ]
  },
  {
   "cell_type": "code",
   "execution_count": 2,
   "metadata": {},
   "outputs": [
    {
     "name": "stderr",
     "output_type": "stream",
     "text": [
      "Some weights of the model checkpoint at allenai/longformer-base-4096 were not used when initializing LongformerModel: ['lm_head.dense.weight', 'lm_head.layer_norm.bias', 'lm_head.dense.bias', 'lm_head.decoder.weight', 'lm_head.layer_norm.weight', 'lm_head.bias']\n",
      "- This IS expected if you are initializing LongformerModel from the checkpoint of a model trained on another task or with another architecture (e.g. initializing a BertForSequenceClassification model from a BertForPreTraining model).\n",
      "- This IS NOT expected if you are initializing LongformerModel from the checkpoint of a model that you expect to be exactly identical (initializing a BertForSequenceClassification model from a BertForSequenceClassification model).\n"
     ]
    }
   ],
   "source": [
    "df = GIST(docs_path='../data/documents').compute_scores()"
   ]
  },
  {
   "cell_type": "code",
   "execution_count": 3,
   "metadata": {},
   "outputs": [
    {
     "name": "stdout",
     "output_type": "stream",
     "text": [
      "avg Discussion score: -0.42077650534042677\n",
      "avg Methods score: -0.8962201397460875\n"
     ]
    }
   ],
   "source": [
    "# comparing the GIS of Discussion vs. Methods sections of a collection of documents\n",
    "# Discussion sections are supposed to be more gispty and have a higher GIS value.\n",
    "\n",
    "d_scores = []\n",
    "m_scores = []\n",
    "\n",
    "for idx, row in df.iterrows():\n",
    "    if 'd_' in row['d_id']:\n",
    "        d_scores.append(row['gis'])\n",
    "    else:\n",
    "        m_scores.append(row['gis'])\n",
    "\n",
    "print('avg Discussion score: {}'.format(sum(d_scores) / len(d_scores)))\n",
    "print('avg Methods score: {}'.format(sum(m_scores) / len(m_scores)))"
   ]
  },
  {
   "cell_type": "code",
   "execution_count": 4,
   "metadata": {},
   "outputs": [
    {
     "data": {
      "text/plain": [
       "[-0.06058802651077155,\n",
       " 0.29735865074149975,\n",
       " 0.3101267764204952,\n",
       " -0.03684963736757654,\n",
       " -1.3527090187408657,\n",
       " -1.108048844740789,\n",
       " 0.04677100922477614,\n",
       " -0.20589683947924864,\n",
       " 0.3822816512695802,\n",
       " 0.4022476035161172,\n",
       " -0.932002313005785,\n",
       " -0.5411744808468777,\n",
       " -1.256969604203269,\n",
       " 0.36445196273805797,\n",
       " -1.3285238408902789,\n",
       " -0.4905923084156008,\n",
       " -1.3799398217231242,\n",
       " 0.3848307750148894,\n",
       " -0.4674665661009897,\n",
       " -1.3094462188192864,\n",
       " -0.8788335909801227,\n",
       " 0.0963860277046385,\n",
       " 0.4153981251718588,\n",
       " -1.693152944837753,\n",
       " -0.17707115865024492]"
      ]
     },
     "execution_count": 4,
     "metadata": {},
     "output_type": "execute_result"
    }
   ],
   "source": [
    "d_scores"
   ]
  },
  {
   "cell_type": "code",
   "execution_count": 5,
   "metadata": {},
   "outputs": [
    {
     "data": {
      "text/plain": [
       "[-1.6661935332979003,\n",
       " -1.5443487647006469,\n",
       " 0.6155688406752425,\n",
       " -0.46650483520646524,\n",
       " 0.3714363115557503,\n",
       " 0.4632686534239081,\n",
       " -2.0612465952992007,\n",
       " -1.3947090853496404,\n",
       " -0.5852376654674096,\n",
       " -0.8816533801245402,\n",
       " -1.0410119355133314,\n",
       " -0.7848731762916936,\n",
       " -2.0735825879615186,\n",
       " -0.963556613109763,\n",
       " -1.172114176588038,\n",
       " -1.086528240975115,\n",
       " -0.3128915326877023,\n",
       " -1.7319259928699524,\n",
       " -0.8556515238047698,\n",
       " -0.5877697497922018,\n",
       " -0.13447988593955507,\n",
       " -1.2878481985176673,\n",
       " -0.03869155108741815,\n",
       " -1.6301100855547215,\n",
       " -1.5548481891678363]"
      ]
     },
     "execution_count": 5,
     "metadata": {},
     "output_type": "execute_result"
    }
   ],
   "source": [
    "m_scores"
   ]
  },
  {
   "cell_type": "markdown",
   "metadata": {},
   "source": [
    "### Computing GIS using pre-computed Coh-Metrix indexes"
   ]
  },
  {
   "cell_type": "code",
   "execution_count": 4,
   "metadata": {},
   "outputs": [],
   "source": [
    "df = pd.read_csv(\"../data/mturk_all.csv\")"
   ]
  },
  {
   "cell_type": "code",
   "execution_count": 5,
   "metadata": {},
   "outputs": [],
   "source": [
    "a = GIS().score(df, wolfe=True)"
   ]
  },
  {
   "cell_type": "code",
   "execution_count": 6,
   "metadata": {},
   "outputs": [
    {
     "data": {
      "text/html": [
       "<div>\n",
       "<style scoped>\n",
       "    .dataframe tbody tr th:only-of-type {\n",
       "        vertical-align: middle;\n",
       "    }\n",
       "\n",
       "    .dataframe tbody tr th {\n",
       "        vertical-align: top;\n",
       "    }\n",
       "\n",
       "    .dataframe thead th {\n",
       "        text-align: right;\n",
       "    }\n",
       "</style>\n",
       "<table border=\"1\" class=\"dataframe\">\n",
       "  <thead>\n",
       "    <tr style=\"text-align: right;\">\n",
       "      <th></th>\n",
       "      <th>TextID</th>\n",
       "      <th>DESPC</th>\n",
       "      <th>DESSC</th>\n",
       "      <th>DESWC</th>\n",
       "      <th>DESPL</th>\n",
       "      <th>DESPLd</th>\n",
       "      <th>DESSL</th>\n",
       "      <th>DESSLd</th>\n",
       "      <th>DESWLsy</th>\n",
       "      <th>DESWLsyd</th>\n",
       "      <th>...</th>\n",
       "      <th>WRDHYPv</th>\n",
       "      <th>WRDHYPnv</th>\n",
       "      <th>RDFRE</th>\n",
       "      <th>RDFKGL</th>\n",
       "      <th>RDL2</th>\n",
       "      <th>zSMCAUSlsa</th>\n",
       "      <th>zSMCAUSwn</th>\n",
       "      <th>zWRDIMGc</th>\n",
       "      <th>zWRDHYPnv</th>\n",
       "      <th>GIS</th>\n",
       "    </tr>\n",
       "  </thead>\n",
       "  <tbody>\n",
       "    <tr>\n",
       "      <th>0</th>\n",
       "      <td>C:\\gwu\\cohmetrix\\CohMetrix2021\\coh_input_2\\301...</td>\n",
       "      <td>8</td>\n",
       "      <td>14</td>\n",
       "      <td>355</td>\n",
       "      <td>1.750</td>\n",
       "      <td>1.389</td>\n",
       "      <td>25.500000</td>\n",
       "      <td>14.325</td>\n",
       "      <td>1.614</td>\n",
       "      <td>0.924</td>\n",
       "      <td>...</td>\n",
       "      <td>1.842</td>\n",
       "      <td>2.275</td>\n",
       "      <td>44.553001</td>\n",
       "      <td>13.344</td>\n",
       "      <td>6.526000</td>\n",
       "      <td>-0.975</td>\n",
       "      <td>-0.229166</td>\n",
       "      <td>1.242778</td>\n",
       "      <td>1.661539</td>\n",
       "      <td>-4.252150</td>\n",
       "    </tr>\n",
       "    <tr>\n",
       "      <th>1</th>\n",
       "      <td>C:\\gwu\\cohmetrix\\CohMetrix2021\\coh_input_2\\301...</td>\n",
       "      <td>11</td>\n",
       "      <td>25</td>\n",
       "      <td>425</td>\n",
       "      <td>2.273</td>\n",
       "      <td>1.191</td>\n",
       "      <td>17.240000</td>\n",
       "      <td>10.978</td>\n",
       "      <td>1.532</td>\n",
       "      <td>0.827</td>\n",
       "      <td>...</td>\n",
       "      <td>1.693</td>\n",
       "      <td>2.405</td>\n",
       "      <td>59.973000</td>\n",
       "      <td>9.118</td>\n",
       "      <td>12.206000</td>\n",
       "      <td>-0.675</td>\n",
       "      <td>0.812500</td>\n",
       "      <td>0.817916</td>\n",
       "      <td>2.161538</td>\n",
       "      <td>-6.053954</td>\n",
       "    </tr>\n",
       "    <tr>\n",
       "      <th>2</th>\n",
       "      <td>C:\\gwu\\cohmetrix\\CohMetrix2021\\coh_input_2\\301...</td>\n",
       "      <td>4</td>\n",
       "      <td>17</td>\n",
       "      <td>313</td>\n",
       "      <td>4.250</td>\n",
       "      <td>2.630</td>\n",
       "      <td>18.471001</td>\n",
       "      <td>9.677</td>\n",
       "      <td>1.431</td>\n",
       "      <td>0.826</td>\n",
       "      <td>...</td>\n",
       "      <td>1.817</td>\n",
       "      <td>1.643</td>\n",
       "      <td>67.084000</td>\n",
       "      <td>8.476</td>\n",
       "      <td>21.061001</td>\n",
       "      <td>-0.150</td>\n",
       "      <td>-0.208333</td>\n",
       "      <td>-1.270545</td>\n",
       "      <td>-0.769231</td>\n",
       "      <td>4.363109</td>\n",
       "    </tr>\n",
       "    <tr>\n",
       "      <th>3</th>\n",
       "      <td>C:\\gwu\\cohmetrix\\CohMetrix2021\\coh_input_2\\301...</td>\n",
       "      <td>18</td>\n",
       "      <td>26</td>\n",
       "      <td>744</td>\n",
       "      <td>1.444</td>\n",
       "      <td>0.616</td>\n",
       "      <td>29.000000</td>\n",
       "      <td>11.631</td>\n",
       "      <td>1.777</td>\n",
       "      <td>1.030</td>\n",
       "      <td>...</td>\n",
       "      <td>1.643</td>\n",
       "      <td>2.383</td>\n",
       "      <td>27.457001</td>\n",
       "      <td>16.538</td>\n",
       "      <td>8.316000</td>\n",
       "      <td>-1.375</td>\n",
       "      <td>-0.604167</td>\n",
       "      <td>0.801352</td>\n",
       "      <td>2.076923</td>\n",
       "      <td>-5.268108</td>\n",
       "    </tr>\n",
       "    <tr>\n",
       "      <th>4</th>\n",
       "      <td>C:\\gwu\\cohmetrix\\CohMetrix2021\\coh_input_2\\301...</td>\n",
       "      <td>5</td>\n",
       "      <td>16</td>\n",
       "      <td>272</td>\n",
       "      <td>3.200</td>\n",
       "      <td>1.789</td>\n",
       "      <td>17.250000</td>\n",
       "      <td>9.936</td>\n",
       "      <td>1.346</td>\n",
       "      <td>0.702</td>\n",
       "      <td>...</td>\n",
       "      <td>1.467</td>\n",
       "      <td>1.603</td>\n",
       "      <td>75.708000</td>\n",
       "      <td>6.923</td>\n",
       "      <td>20.931000</td>\n",
       "      <td>-1.450</td>\n",
       "      <td>0.156250</td>\n",
       "      <td>-0.696967</td>\n",
       "      <td>-0.923077</td>\n",
       "      <td>1.551794</td>\n",
       "    </tr>\n",
       "  </tbody>\n",
       "</table>\n",
       "<p>5 rows × 114 columns</p>\n",
       "</div>"
      ],
      "text/plain": [
       "                                              TextID  DESPC  DESSC  DESWC  \\\n",
       "0  C:\\gwu\\cohmetrix\\CohMetrix2021\\coh_input_2\\301...      8     14    355   \n",
       "1  C:\\gwu\\cohmetrix\\CohMetrix2021\\coh_input_2\\301...     11     25    425   \n",
       "2  C:\\gwu\\cohmetrix\\CohMetrix2021\\coh_input_2\\301...      4     17    313   \n",
       "3  C:\\gwu\\cohmetrix\\CohMetrix2021\\coh_input_2\\301...     18     26    744   \n",
       "4  C:\\gwu\\cohmetrix\\CohMetrix2021\\coh_input_2\\301...      5     16    272   \n",
       "\n",
       "   DESPL  DESPLd      DESSL  DESSLd  DESWLsy  DESWLsyd  ...  WRDHYPv  \\\n",
       "0  1.750   1.389  25.500000  14.325    1.614     0.924  ...    1.842   \n",
       "1  2.273   1.191  17.240000  10.978    1.532     0.827  ...    1.693   \n",
       "2  4.250   2.630  18.471001   9.677    1.431     0.826  ...    1.817   \n",
       "3  1.444   0.616  29.000000  11.631    1.777     1.030  ...    1.643   \n",
       "4  3.200   1.789  17.250000   9.936    1.346     0.702  ...    1.467   \n",
       "\n",
       "   WRDHYPnv      RDFRE  RDFKGL       RDL2  zSMCAUSlsa  zSMCAUSwn  zWRDIMGc  \\\n",
       "0     2.275  44.553001  13.344   6.526000      -0.975  -0.229166  1.242778   \n",
       "1     2.405  59.973000   9.118  12.206000      -0.675   0.812500  0.817916   \n",
       "2     1.643  67.084000   8.476  21.061001      -0.150  -0.208333 -1.270545   \n",
       "3     2.383  27.457001  16.538   8.316000      -1.375  -0.604167  0.801352   \n",
       "4     1.603  75.708000   6.923  20.931000      -1.450   0.156250 -0.696967   \n",
       "\n",
       "   zWRDHYPnv       GIS  \n",
       "0   1.661539 -4.252150  \n",
       "1   2.161538 -6.053954  \n",
       "2  -0.769231  4.363109  \n",
       "3   2.076923 -5.268108  \n",
       "4  -0.923077  1.551794  \n",
       "\n",
       "[5 rows x 114 columns]"
      ]
     },
     "execution_count": 6,
     "metadata": {},
     "output_type": "execute_result"
    }
   ],
   "source": [
    "a.head(5)"
   ]
  },
  {
   "cell_type": "code",
   "execution_count": 5,
   "metadata": {},
   "outputs": [],
   "source": [
    "a.to_csv('mturk_all.csv')"
   ]
  },
  {
   "cell_type": "code",
   "execution_count": null,
   "metadata": {},
   "outputs": [],
   "source": []
  }
 ],
 "metadata": {
  "kernelspec": {
   "display_name": "gispy-env",
   "language": "python",
   "name": "gispy-env"
  },
  "language_info": {
   "codemirror_mode": {
    "name": "ipython",
    "version": 3
   },
   "file_extension": ".py",
   "mimetype": "text/x-python",
   "name": "python",
   "nbconvert_exporter": "python",
   "pygments_lexer": "ipython3",
   "version": "3.8.5"
  }
 },
 "nbformat": 4,
 "nbformat_minor": 4
}
