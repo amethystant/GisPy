{
 "cells": [
  {
   "cell_type": "code",
   "execution_count": 1,
   "metadata": {},
   "outputs": [],
   "source": [
    "import pandas as pd\n",
    "from scipy.stats import zscore"
   ]
  },
  {
   "cell_type": "code",
   "execution_count": 2,
   "metadata": {},
   "outputs": [],
   "source": [
    "df = pd.read_excel(\"../data/cohmetrix_output.xlsx\")"
   ]
  },
  {
   "cell_type": "code",
   "execution_count": 3,
   "metadata": {},
   "outputs": [],
   "source": [
    "# Referential Cohesion (PCREFz)\n",
    "# Deep Cohesion (PCDCz)\n",
    "# Verb Overlap LSA (SMCAUSlsa)\n",
    "# Verb Overlap WordNet (SMCAUSwn)\n",
    "# Word Concreteness (PCCNCz)\n",
    "# Imageability for Content Words (WRDIMGc)\n",
    "# Hypernymy for Nouns and Verbs (WRDHYPnv)\n",
    "\n",
    "# computing z-scores\n",
    "df[\"zSMCAUSlsa\"] = zscore(df['SMCAUSlsa'])\n",
    "df[\"zSMCAUSwn\"] = zscore(df['SMCAUSwn'])\n",
    "df[\"zWRDIMGc\"] = zscore(df['WRDIMGc'])\n",
    "df[\"zWRDHYPnv\"] = zscore(df['WRDHYPnv'])"
   ]
  },
  {
   "cell_type": "code",
   "execution_count": 4,
   "metadata": {},
   "outputs": [],
   "source": [
    "# computing the Gist Inference Score (GIS)\n",
    "for idx, row in df.iterrows():\n",
    "    PCREFz = row[\"PCREFz\"]\n",
    "    PCDCz = row[\"PCDCz\"]\n",
    "    PCCNCz = row[\"PCCNCz\"]\n",
    "    zSMCAUSlsa = row[\"zSMCAUSlsa\"]\n",
    "    zSMCAUSwn = row[\"zSMCAUSwn\"]\n",
    "    zWRDIMGc = row[\"zWRDIMGc\"]\n",
    "    zWRDHYPnv = row[\"zWRDHYPnv\"]\n",
    "    gis = PCREFz + PCDCz + (zSMCAUSlsa - zSMCAUSwn) - PCCNCz - zWRDIMGc - zWRDHYPnv\n",
    "    df.loc[idx, \"GIS\"] = gis"
   ]
  },
  {
   "cell_type": "code",
   "execution_count": 5,
   "metadata": {},
   "outputs": [
    {
     "data": {
      "text/plain": [
       "0   -4.048015\n",
       "1   -1.534146\n",
       "2    2.086660\n",
       "Name: GIS, dtype: float64"
      ]
     },
     "execution_count": 5,
     "metadata": {},
     "output_type": "execute_result"
    }
   ],
   "source": [
    "df[\"GIS\"].head(3)"
   ]
  },
  {
   "cell_type": "code",
   "execution_count": null,
   "metadata": {},
   "outputs": [],
   "source": []
  }
 ],
 "metadata": {
  "kernelspec": {
   "display_name": "Python 3",
   "language": "python",
   "name": "python3"
  },
  "language_info": {
   "codemirror_mode": {
    "name": "ipython",
    "version": 3
   },
   "file_extension": ".py",
   "mimetype": "text/x-python",
   "name": "python",
   "nbconvert_exporter": "python",
   "pygments_lexer": "ipython3",
   "version": "3.7.9"
  }
 },
 "nbformat": 4,
 "nbformat_minor": 4
}
